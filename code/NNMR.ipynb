{
 "cells": [
  {
   "cell_type": "code",
   "execution_count": 1,
   "metadata": {},
   "outputs": [],
   "source": [
    "# Data analysis\n",
    "import pandas as pd\n",
    "import numpy as np \n",
    "import matplotlib.pyplot as plt\n",
    "import scipy as scipy\n",
    "\n",
    "\n",
    "#PyTorch\n",
    "import torch\n",
    "\n",
    "# Custom modules \n",
    "from Modules.LinearModels.CVLinearModels import PairwiseMetrics\n",
    "from Modules.FingerPrints.ParsingFunctions import get_sub_dict\n",
    "from Modules.FingerPrints.GeneratingFunctions import FirstDegreeFP\n",
    "from Modules.FingerPrints.KernelFP import KernelFPGenerator\n",
    "from Modules.NeuralNetworks.MRLoss.RankNETMR import DataloaderRankNet\n",
    "from Modules.NeuralNetworks.MRLoss.CVNNMR import NestedCV,RankNETCV,ILD_cv\n",
    "from Modules.HelperFunctions import *\n",
    "# CONSTANTS\n",
    "from pathlib import Path\n",
    "import csv\n",
    "# Get the directory of the current file\n",
    "current_dir = Path().cwd()\n",
    "METABOBASE_PATH = current_dir.parent / \"data\" / \"IDB.csv\"\n",
    "ARTICLES_PATH = current_dir.parent / \"data\"  / \"ILD.csv\"\n",
    "DEVICE = 'cuda' if torch.cuda.is_available() else 'cpu'\n"
   ]
  },
  {
   "cell_type": "markdown",
   "metadata": {},
   "source": [
    "# Data"
   ]
  },
  {
   "cell_type": "code",
   "execution_count": 2,
   "metadata": {},
   "outputs": [],
   "source": [
    "BaseFPGen = KernelFPGenerator(generating_function=FirstDegreeFP,parsing_function=get_sub_dict)\n",
    "FPGen = KernelFPGenerator(generating_function=FirstDegreeFP,parsing_function=get_sub_dict)"
   ]
  },
  {
   "cell_type": "markdown",
   "metadata": {},
   "source": [
    "## IMB"
   ]
  },
  {
   "cell_type": "code",
   "execution_count": 3,
   "metadata": {},
   "outputs": [],
   "source": [
    "mb_data = pd.read_csv(METABOBASE_PATH)\n",
    "dois_mb = mb_data['DOI'].to_numpy()\n",
    "X_mb = np.stack(mb_data['SMILES'].apply(FPGen.generate))\n",
    "y_mb = mb_data['RT'].to_numpy()\n",
    "f_mb = mb_data['Formula'].to_numpy()"
   ]
  },
  {
   "cell_type": "code",
   "execution_count": 4,
   "metadata": {},
   "outputs": [],
   "source": [
    "X_mb_tensor = torch.tensor(X_mb,dtype=torch.float32,device=DEVICE)\n",
    "y_mb_tensor = torch.tensor(y_mb,dtype=torch.float32,device=DEVICE)"
   ]
  },
  {
   "cell_type": "markdown",
   "metadata": {},
   "source": [
    "## ILD"
   ]
  },
  {
   "cell_type": "code",
   "execution_count": 5,
   "metadata": {},
   "outputs": [],
   "source": [
    "a_data = pd.read_csv(ARTICLES_PATH)\n",
    "\n",
    "X_a = np.stack(a_data['SMILES'].apply(FPGen.generate).to_numpy())\n",
    "f_a = a_data['FORMULA'].to_numpy()\n",
    "RTs_a = a_data['RT'].to_numpy()\n",
    "dois_a = a_data['DOI'].to_numpy()\n",
    "y_a = a_data['RT'].to_numpy()"
   ]
  },
  {
   "cell_type": "code",
   "execution_count": 6,
   "metadata": {},
   "outputs": [],
   "source": [
    "X_a_tensor = torch.tensor(X_a,dtype=torch.float32,device=DEVICE)\n",
    "y_a_tensor = torch.tensor(y_a,dtype=torch.float32,device=DEVICE)"
   ]
  },
  {
   "cell_type": "markdown",
   "metadata": {},
   "source": [
    "## Stratification"
   ]
  },
  {
   "cell_type": "code",
   "execution_count": 7,
   "metadata": {},
   "outputs": [],
   "source": [
    "def get_retention_time_class(retention_time, retention_times=y_mb, num_classes=3):\n",
    "  \"\"\"\n",
    "  Determines the retention time class for a given retention time.\n",
    "\n",
    "  Args:\n",
    "    retention_time: The retention time of the compound.\n",
    "    retention_times: A list or array of all retention times in the dataset.\n",
    "    num_classes: The desired number of retention time classes.\n",
    "\n",
    "  Returns:\n",
    "    The retention time class (an integer between 0 and num_classes-1).\n",
    "  \"\"\"\n",
    "\n",
    "  # Calculate class boundaries\n",
    "  min_rt = np.min(retention_times)\n",
    "  max_rt = np.max(retention_times)\n",
    "  class_boundaries = np.linspace(min_rt, max_rt+0.001, num_classes+1)\n",
    "\n",
    "  # Determine the class index\n",
    "  class_index = np.digitize(retention_time, class_boundaries) - 1\n",
    "  return class_index\n",
    "\n",
    "\n",
    "classes = list(map(get_retention_time_class,y_mb))"
   ]
  },
  {
   "cell_type": "markdown",
   "metadata": {},
   "source": [
    "# RankNET MRLoss"
   ]
  },
  {
   "cell_type": "markdown",
   "metadata": {},
   "source": [
    "## Nested CV"
   ]
  },
  {
   "cell_type": "code",
   "execution_count": 8,
   "metadata": {},
   "outputs": [
    {
     "ename": "KeyboardInterrupt",
     "evalue": "",
     "output_type": "error",
     "traceback": [
      "\u001b[0;31m---------------------------------------------------------------------------\u001b[0m",
      "\u001b[0;31mKeyboardInterrupt\u001b[0m                         Traceback (most recent call last)",
      "\u001b[1;32m/Users/ivanrozanov/Desktop/FlavonoidsElutionOrder/Code/code/NNMR.ipynb Cell 14\u001b[0m line \u001b[0;36m1\n\u001b[1;32m      <a href='vscode-notebook-cell:/Users/ivanrozanov/Desktop/FlavonoidsElutionOrder/Code/code/NNMR.ipynb#X22sZmlsZQ%3D%3D?line=0'>1</a>\u001b[0m param_values \u001b[39m=\u001b[39m {\n\u001b[1;32m      <a href='vscode-notebook-cell:/Users/ivanrozanov/Desktop/FlavonoidsElutionOrder/Code/code/NNMR.ipynb#X22sZmlsZQ%3D%3D?line=1'>2</a>\u001b[0m     \u001b[39m\"\u001b[39m\u001b[39mhidden_dim\u001b[39m\u001b[39m\"\u001b[39m: [\u001b[39m32\u001b[39m,\u001b[39m64\u001b[39m],\n\u001b[1;32m      <a href='vscode-notebook-cell:/Users/ivanrozanov/Desktop/FlavonoidsElutionOrder/Code/code/NNMR.ipynb#X22sZmlsZQ%3D%3D?line=2'>3</a>\u001b[0m     \u001b[39m\"\u001b[39m\u001b[39mn_hidden\u001b[39m\u001b[39m\"\u001b[39m: [\u001b[39m2\u001b[39m,\u001b[39m4\u001b[39m],\n\u001b[0;32m   (...)\u001b[0m\n\u001b[1;32m      <a href='vscode-notebook-cell:/Users/ivanrozanov/Desktop/FlavonoidsElutionOrder/Code/code/NNMR.ipynb#X22sZmlsZQ%3D%3D?line=5'>6</a>\u001b[0m     \u001b[39m\"\u001b[39m\u001b[39mbatch_size\u001b[39m\u001b[39m\"\u001b[39m: [\u001b[39m512\u001b[39m]\n\u001b[1;32m      <a href='vscode-notebook-cell:/Users/ivanrozanov/Desktop/FlavonoidsElutionOrder/Code/code/NNMR.ipynb#X22sZmlsZQ%3D%3D?line=6'>7</a>\u001b[0m } \n\u001b[1;32m      <a href='vscode-notebook-cell:/Users/ivanrozanov/Desktop/FlavonoidsElutionOrder/Code/code/NNMR.ipynb#X22sZmlsZQ%3D%3D?line=8'>9</a>\u001b[0m hyperparameters_grid \u001b[39m=\u001b[39m create_hp_grid(param_values)\n\u001b[0;32m---> <a href='vscode-notebook-cell:/Users/ivanrozanov/Desktop/FlavonoidsElutionOrder/Code/code/NNMR.ipynb#X22sZmlsZQ%3D%3D?line=9'>10</a>\u001b[0m RankNET_nested \u001b[39m=\u001b[39m np\u001b[39m.\u001b[39marray(NestedCV(X_mb_tensor,y_mb_tensor,classes,f_mb,hyperparameters_grid,RankNETCV,n_itter_inner\u001b[39m=\u001b[39;49m\u001b[39m1\u001b[39;49m,n_itter_out\u001b[39m=\u001b[39;49m\u001b[39m1\u001b[39;49m))\n",
      "File \u001b[0;32m~/Desktop/FlavonoidsElutionOrder/Code/code/Modules/NeuralNetworks/MRLoss/CVNNMR.py:183\u001b[0m, in \u001b[0;36mNestedCV\u001b[0;34m(X, y, classes, formulas, hyperparameters_grid, inner_cv_func, n_outter_splits, n_inner_splits, n_itter_out, n_itter_inner)\u001b[0m\n\u001b[1;32m    180\u001b[0m X_train,y_train \u001b[39m=\u001b[39m X[train_idx],y[train_idx]\n\u001b[1;32m    181\u001b[0m classes_train \u001b[39m=\u001b[39m np\u001b[39m.\u001b[39marray(classes,dtype\u001b[39m=\u001b[39m\u001b[39mint\u001b[39m)[train_idx]\n\u001b[0;32m--> 183\u001b[0m best_model \u001b[39m=\u001b[39m inner_cv_func(X_train,y_train,classes_train,hyperparameters_grid,n_itter_inner,n_inner_splits)\n\u001b[1;32m    185\u001b[0m predictions \u001b[39m=\u001b[39m best_model(X)\u001b[39m.\u001b[39mreshape(\u001b[39m-\u001b[39m\u001b[39m1\u001b[39m)\n\u001b[1;32m    186\u001b[0m metrics \u001b[39m=\u001b[39m PairwiseMetrics(y,predictions,torch\u001b[39m.\u001b[39mtensor(test_idx,device\u001b[39m=\u001b[39mDEVICE,dtype\u001b[39m=\u001b[39mtorch\u001b[39m.\u001b[39mint),formulas)\n",
      "File \u001b[0;32m~/Desktop/FlavonoidsElutionOrder/Code/code/Modules/NeuralNetworks/MRLoss/CVNNMR.py:123\u001b[0m, in \u001b[0;36mRankNETCV\u001b[0;34m(X, y, classes, hyperparameters_grid, n_itter, n_splits)\u001b[0m\n\u001b[1;32m    120\u001b[0m train_loader \u001b[39m=\u001b[39m DataloaderRankNet(X_train,y_train,\u001b[39mNone\u001b[39;00m,batch_size\u001b[39m=\u001b[39mhp[\u001b[39m'\u001b[39m\u001b[39mbatch_size\u001b[39m\u001b[39m'\u001b[39m])\n\u001b[1;32m    122\u001b[0m model \u001b[39m=\u001b[39m RankNet(X\u001b[39m.\u001b[39mshape[\u001b[39m1\u001b[39m],hidden_dim\u001b[39m=\u001b[39mhp[\u001b[39m'\u001b[39m\u001b[39mhidden_dim\u001b[39m\u001b[39m'\u001b[39m],n_hidden\u001b[39m=\u001b[39mhp[\u001b[39m'\u001b[39m\u001b[39mn_hidden\u001b[39m\u001b[39m'\u001b[39m])\u001b[39m.\u001b[39mto(DEVICE)\n\u001b[0;32m--> 123\u001b[0m train_RankNet(model,train_loader\u001b[39m=\u001b[39;49mtrain_loader,num_epochs\u001b[39m=\u001b[39;49mhp[\u001b[39m'\u001b[39;49m\u001b[39mnum_epochs\u001b[39;49m\u001b[39m'\u001b[39;49m],optimizer\u001b[39m=\u001b[39;49mtorch\u001b[39m.\u001b[39;49moptim\u001b[39m.\u001b[39;49mAdam(model\u001b[39m.\u001b[39;49mparameters(),lr\u001b[39m=\u001b[39;49m\u001b[39m0.01\u001b[39;49m,weight_decay\u001b[39m=\u001b[39;49mhp[\u001b[39m'\u001b[39;49m\u001b[39mweight_decay\u001b[39;49m\u001b[39m'\u001b[39;49m]))\n\u001b[1;32m    125\u001b[0m predictions \u001b[39m=\u001b[39m model(X)\u001b[39m.\u001b[39mreshape(\u001b[39m-\u001b[39m\u001b[39m1\u001b[39m)\n\u001b[1;32m    126\u001b[0m metrics \u001b[39m=\u001b[39m PairwiseMetrics(y,predictions,test_idx,formulas\u001b[39m=\u001b[39m\u001b[39mNone\u001b[39;00m)\n",
      "File \u001b[0;32m~/Desktop/FlavonoidsElutionOrder/Code/code/Modules/NeuralNetworks/MRLoss/RankNETMR.py:172\u001b[0m, in \u001b[0;36mtrain_RankNet\u001b[0;34m(model, train_loader, num_epochs, criterion, optimizer)\u001b[0m\n\u001b[1;32m    170\u001b[0m \u001b[39mfor\u001b[39;00m _ \u001b[39min\u001b[39;00m \u001b[39mrange\u001b[39m(num_epochs):\n\u001b[1;32m    171\u001b[0m     total_loss \u001b[39m=\u001b[39m \u001b[39m0\u001b[39m\n\u001b[0;32m--> 172\u001b[0m     \u001b[39mfor\u001b[39;49;00m itemA, itemB, label,true_label \u001b[39min\u001b[39;49;00m train_loader:\n\u001b[1;32m    173\u001b[0m         itemA \u001b[39m=\u001b[39;49m itemA\n\u001b[1;32m    174\u001b[0m         itemB \u001b[39m=\u001b[39;49m itemB\n",
      "File \u001b[0;32m/Library/Frameworks/Python.framework/Versions/3.12/lib/python3.12/site-packages/torch/utils/data/dataloader.py:701\u001b[0m, in \u001b[0;36m_BaseDataLoaderIter.__next__\u001b[0;34m(self)\u001b[0m\n\u001b[1;32m    698\u001b[0m \u001b[39mif\u001b[39;00m \u001b[39mself\u001b[39m\u001b[39m.\u001b[39m_sampler_iter \u001b[39mis\u001b[39;00m \u001b[39mNone\u001b[39;00m:\n\u001b[1;32m    699\u001b[0m     \u001b[39m# TODO(https://github.com/pytorch/pytorch/issues/76750)\u001b[39;00m\n\u001b[1;32m    700\u001b[0m     \u001b[39mself\u001b[39m\u001b[39m.\u001b[39m_reset()  \u001b[39m# type: ignore[call-arg]\u001b[39;00m\n\u001b[0;32m--> 701\u001b[0m data \u001b[39m=\u001b[39m \u001b[39mself\u001b[39;49m\u001b[39m.\u001b[39;49m_next_data()\n\u001b[1;32m    702\u001b[0m \u001b[39mself\u001b[39m\u001b[39m.\u001b[39m_num_yielded \u001b[39m+\u001b[39m\u001b[39m=\u001b[39m \u001b[39m1\u001b[39m\n\u001b[1;32m    703\u001b[0m \u001b[39mif\u001b[39;00m (\n\u001b[1;32m    704\u001b[0m     \u001b[39mself\u001b[39m\u001b[39m.\u001b[39m_dataset_kind \u001b[39m==\u001b[39m _DatasetKind\u001b[39m.\u001b[39mIterable\n\u001b[1;32m    705\u001b[0m     \u001b[39mand\u001b[39;00m \u001b[39mself\u001b[39m\u001b[39m.\u001b[39m_IterableDataset_len_called \u001b[39mis\u001b[39;00m \u001b[39mnot\u001b[39;00m \u001b[39mNone\u001b[39;00m\n\u001b[1;32m    706\u001b[0m     \u001b[39mand\u001b[39;00m \u001b[39mself\u001b[39m\u001b[39m.\u001b[39m_num_yielded \u001b[39m>\u001b[39m \u001b[39mself\u001b[39m\u001b[39m.\u001b[39m_IterableDataset_len_called\n\u001b[1;32m    707\u001b[0m ):\n",
      "File \u001b[0;32m/Library/Frameworks/Python.framework/Versions/3.12/lib/python3.12/site-packages/torch/utils/data/dataloader.py:757\u001b[0m, in \u001b[0;36m_SingleProcessDataLoaderIter._next_data\u001b[0;34m(self)\u001b[0m\n\u001b[1;32m    755\u001b[0m \u001b[39mdef\u001b[39;00m \u001b[39m_next_data\u001b[39m(\u001b[39mself\u001b[39m):\n\u001b[1;32m    756\u001b[0m     index \u001b[39m=\u001b[39m \u001b[39mself\u001b[39m\u001b[39m.\u001b[39m_next_index()  \u001b[39m# may raise StopIteration\u001b[39;00m\n\u001b[0;32m--> 757\u001b[0m     data \u001b[39m=\u001b[39m \u001b[39mself\u001b[39;49m\u001b[39m.\u001b[39;49m_dataset_fetcher\u001b[39m.\u001b[39;49mfetch(index)  \u001b[39m# may raise StopIteration\u001b[39;00m\n\u001b[1;32m    758\u001b[0m     \u001b[39mif\u001b[39;00m \u001b[39mself\u001b[39m\u001b[39m.\u001b[39m_pin_memory:\n\u001b[1;32m    759\u001b[0m         data \u001b[39m=\u001b[39m _utils\u001b[39m.\u001b[39mpin_memory\u001b[39m.\u001b[39mpin_memory(data, \u001b[39mself\u001b[39m\u001b[39m.\u001b[39m_pin_memory_device)\n",
      "File \u001b[0;32m/Library/Frameworks/Python.framework/Versions/3.12/lib/python3.12/site-packages/torch/utils/data/_utils/fetch.py:55\u001b[0m, in \u001b[0;36m_MapDatasetFetcher.fetch\u001b[0;34m(self, possibly_batched_index)\u001b[0m\n\u001b[1;32m     53\u001b[0m \u001b[39melse\u001b[39;00m:\n\u001b[1;32m     54\u001b[0m     data \u001b[39m=\u001b[39m \u001b[39mself\u001b[39m\u001b[39m.\u001b[39mdataset[possibly_batched_index]\n\u001b[0;32m---> 55\u001b[0m \u001b[39mreturn\u001b[39;00m \u001b[39mself\u001b[39;49m\u001b[39m.\u001b[39;49mcollate_fn(data)\n",
      "File \u001b[0;32m/Library/Frameworks/Python.framework/Versions/3.12/lib/python3.12/site-packages/torch/utils/data/_utils/collate.py:398\u001b[0m, in \u001b[0;36mdefault_collate\u001b[0;34m(batch)\u001b[0m\n\u001b[1;32m    337\u001b[0m \u001b[39mdef\u001b[39;00m \u001b[39mdefault_collate\u001b[39m(batch):\n\u001b[1;32m    338\u001b[0m \u001b[39m    \u001b[39m\u001b[39mr\u001b[39m\u001b[39m\"\"\"\u001b[39;00m\n\u001b[1;32m    339\u001b[0m \u001b[39m    Take in a batch of data and put the elements within the batch into a tensor with an additional outer dimension - batch size.\u001b[39;00m\n\u001b[1;32m    340\u001b[0m \n\u001b[0;32m   (...)\u001b[0m\n\u001b[1;32m    396\u001b[0m \u001b[39m        >>> default_collate(batch)  # Handle `CustomType` automatically\u001b[39;00m\n\u001b[1;32m    397\u001b[0m \u001b[39m    \"\"\"\u001b[39;00m\n\u001b[0;32m--> 398\u001b[0m     \u001b[39mreturn\u001b[39;00m collate(batch, collate_fn_map\u001b[39m=\u001b[39;49mdefault_collate_fn_map)\n",
      "File \u001b[0;32m/Library/Frameworks/Python.framework/Versions/3.12/lib/python3.12/site-packages/torch/utils/data/_utils/collate.py:212\u001b[0m, in \u001b[0;36mcollate\u001b[0;34m(batch, collate_fn_map)\u001b[0m\n\u001b[1;32m    208\u001b[0m transposed \u001b[39m=\u001b[39m \u001b[39mlist\u001b[39m(\u001b[39mzip\u001b[39m(\u001b[39m*\u001b[39mbatch))  \u001b[39m# It may be accessed twice, so we use a list.\u001b[39;00m\n\u001b[1;32m    210\u001b[0m \u001b[39mif\u001b[39;00m \u001b[39misinstance\u001b[39m(elem, \u001b[39mtuple\u001b[39m):\n\u001b[1;32m    211\u001b[0m     \u001b[39mreturn\u001b[39;00m [\n\u001b[0;32m--> 212\u001b[0m         collate(samples, collate_fn_map\u001b[39m=\u001b[39;49mcollate_fn_map)\n\u001b[1;32m    213\u001b[0m         \u001b[39mfor\u001b[39;00m samples \u001b[39min\u001b[39;00m transposed\n\u001b[1;32m    214\u001b[0m     ]  \u001b[39m# Backwards compatibility.\u001b[39;00m\n\u001b[1;32m    215\u001b[0m \u001b[39melse\u001b[39;00m:\n\u001b[1;32m    216\u001b[0m     \u001b[39mtry\u001b[39;00m:\n",
      "File \u001b[0;32m/Library/Frameworks/Python.framework/Versions/3.12/lib/python3.12/site-packages/torch/utils/data/_utils/collate.py:155\u001b[0m, in \u001b[0;36mcollate\u001b[0;34m(batch, collate_fn_map)\u001b[0m\n\u001b[1;32m    153\u001b[0m \u001b[39mif\u001b[39;00m collate_fn_map \u001b[39mis\u001b[39;00m \u001b[39mnot\u001b[39;00m \u001b[39mNone\u001b[39;00m:\n\u001b[1;32m    154\u001b[0m     \u001b[39mif\u001b[39;00m elem_type \u001b[39min\u001b[39;00m collate_fn_map:\n\u001b[0;32m--> 155\u001b[0m         \u001b[39mreturn\u001b[39;00m collate_fn_map[elem_type](batch, collate_fn_map\u001b[39m=\u001b[39;49mcollate_fn_map)\n\u001b[1;32m    157\u001b[0m     \u001b[39mfor\u001b[39;00m collate_type \u001b[39min\u001b[39;00m collate_fn_map:\n\u001b[1;32m    158\u001b[0m         \u001b[39mif\u001b[39;00m \u001b[39misinstance\u001b[39m(elem, collate_type):\n",
      "File \u001b[0;32m/Library/Frameworks/Python.framework/Versions/3.12/lib/python3.12/site-packages/torch/utils/data/_utils/collate.py:272\u001b[0m, in \u001b[0;36mcollate_tensor_fn\u001b[0;34m(batch, collate_fn_map)\u001b[0m\n\u001b[1;32m    270\u001b[0m     storage \u001b[39m=\u001b[39m elem\u001b[39m.\u001b[39m_typed_storage()\u001b[39m.\u001b[39m_new_shared(numel, device\u001b[39m=\u001b[39melem\u001b[39m.\u001b[39mdevice)\n\u001b[1;32m    271\u001b[0m     out \u001b[39m=\u001b[39m elem\u001b[39m.\u001b[39mnew(storage)\u001b[39m.\u001b[39mresize_(\u001b[39mlen\u001b[39m(batch), \u001b[39m*\u001b[39m\u001b[39mlist\u001b[39m(elem\u001b[39m.\u001b[39msize()))\n\u001b[0;32m--> 272\u001b[0m \u001b[39mreturn\u001b[39;00m torch\u001b[39m.\u001b[39;49mstack(batch, \u001b[39m0\u001b[39;49m, out\u001b[39m=\u001b[39;49mout)\n",
      "\u001b[0;31mKeyboardInterrupt\u001b[0m: "
     ]
    }
   ],
   "source": [
    "param_values = {\n",
    "    \"hidden_dim\": [32,64],\n",
    "    \"n_hidden\": [2,4],\n",
    "    \"num_epochs\": [5,10],\n",
    "    \"weight_decay\": [0.01,0.0001,0],\n",
    "    \"batch_size\": [512]\n",
    "} \n",
    "\n",
    "hyperparameters_grid = create_hp_grid(param_values)\n",
    "RankNET_nested = np.array(NestedCV(X_mb_tensor,y_mb_tensor,classes,f_mb,hyperparameters_grid,RankNETCV,n_itter_inner=1,n_itter_out=1))\n",
    "save_dir = current_dir.parent / \"output\" / 'IDB_results_p1' / 'NNMR.csv'\n",
    "np.savetxt(save_dir,RankNET_nested)"
   ]
  },
  {
   "cell_type": "code",
   "execution_count": null,
   "metadata": {},
   "outputs": [
    {
     "ename": "NameError",
     "evalue": "name 'RankNET_nested' is not defined",
     "output_type": "error",
     "traceback": [
      "\u001b[0;31m---------------------------------------------------------------------------\u001b[0m",
      "\u001b[0;31mNameError\u001b[0m                                 Traceback (most recent call last)",
      "\u001b[1;32m/Users/ivanrozanov/Desktop/Хроматография Моделирование/RESTRUTCURED_ARTICLE_CODE/CODE/NNMR.ipynb Cell 18\u001b[0m line \u001b[0;36m2\n\u001b[1;32m      <a href='vscode-notebook-cell:/Users/ivanrozanov/Desktop/%D0%A5%D1%80%D0%BE%D0%BC%D0%B0%D1%82%D0%BE%D0%B3%D1%80%D0%B0%D1%84%D0%B8%D1%8F%20%D0%9C%D0%BE%D0%B4%D0%B5%D0%BB%D0%B8%D1%80%D0%BE%D0%B2%D0%B0%D0%BD%D0%B8%D0%B5/RESTRUTCURED_ARTICLE_CODE/CODE/NNMR.ipynb#X23sZmlsZQ%3D%3D?line=0'>1</a>\u001b[0m \u001b[39m# Unweighted metrics (PER)\u001b[39;00m\n\u001b[0;32m----> <a href='vscode-notebook-cell:/Users/ivanrozanov/Desktop/%D0%A5%D1%80%D0%BE%D0%BC%D0%B0%D1%82%D0%BE%D0%B3%D1%80%D0%B0%D1%84%D0%B8%D1%8F%20%D0%9C%D0%BE%D0%B4%D0%B5%D0%BB%D0%B8%D1%80%D0%BE%D0%B2%D0%B0%D0%BD%D0%B8%D0%B5/RESTRUTCURED_ARTICLE_CODE/CODE/NNMR.ipynb#X23sZmlsZQ%3D%3D?line=1'>2</a>\u001b[0m PER_test_mean, PER_test_std \u001b[39m=\u001b[39m np\u001b[39m.\u001b[39mmean(RankNET_nested[:, \u001b[39m0\u001b[39m]), np\u001b[39m.\u001b[39mstd(RankNET_nested[:, \u001b[39m0\u001b[39m]) \u001b[39m/\u001b[39m np\u001b[39m.\u001b[39msqrt(\u001b[39mlen\u001b[39m(RankNET_nested[:, \u001b[39m0\u001b[39m])) \u001b[39m*\u001b[39m \u001b[39m1.96\u001b[39m\n\u001b[1;32m      <a href='vscode-notebook-cell:/Users/ivanrozanov/Desktop/%D0%A5%D1%80%D0%BE%D0%BC%D0%B0%D1%82%D0%BE%D0%B3%D1%80%D0%B0%D1%84%D0%B8%D1%8F%20%D0%9C%D0%BE%D0%B4%D0%B5%D0%BB%D0%B8%D1%80%D0%BE%D0%B2%D0%B0%D0%BD%D0%B8%D0%B5/RESTRUTCURED_ARTICLE_CODE/CODE/NNMR.ipynb#X23sZmlsZQ%3D%3D?line=2'>3</a>\u001b[0m PER_mixed_mean, PER_mixed_std \u001b[39m=\u001b[39m np\u001b[39m.\u001b[39mmean(RankNET_nested[:, \u001b[39m1\u001b[39m]), np\u001b[39m.\u001b[39mstd(RankNET_nested[:, \u001b[39m1\u001b[39m]) \u001b[39m/\u001b[39m np\u001b[39m.\u001b[39msqrt(\u001b[39mlen\u001b[39m(RankNET_nested[:, \u001b[39m1\u001b[39m])) \u001b[39m*\u001b[39m \u001b[39m1.96\u001b[39m\n\u001b[1;32m      <a href='vscode-notebook-cell:/Users/ivanrozanov/Desktop/%D0%A5%D1%80%D0%BE%D0%BC%D0%B0%D1%82%D0%BE%D0%B3%D1%80%D0%B0%D1%84%D0%B8%D1%8F%20%D0%9C%D0%BE%D0%B4%D0%B5%D0%BB%D0%B8%D1%80%D0%BE%D0%B2%D0%B0%D0%BD%D0%B8%D0%B5/RESTRUTCURED_ARTICLE_CODE/CODE/NNMR.ipynb#X23sZmlsZQ%3D%3D?line=4'>5</a>\u001b[0m \u001b[39m# Weighted metrics (iPER)\u001b[39;00m\n",
      "\u001b[0;31mNameError\u001b[0m: name 'RankNET_nested' is not defined"
     ]
    }
   ],
   "source": [
    "# Unweighted metrics (PER)\n",
    "PER_test_mean, PER_test_std = np.mean(RankNET_nested[:, 0]), np.std(RankNET_nested[:, 0]) / np.sqrt(len(RankNET_nested[:, 0])) * 1.96\n",
    "PER_mixed_mean, PER_mixed_std = np.mean(RankNET_nested[:, 1]), np.std(RankNET_nested[:, 1]) / np.sqrt(len(RankNET_nested[:, 1])) * 1.96\n",
    "\n",
    "# Weighted metrics (iPER)\n",
    "iPER_test_mean, iPER_test_ci = weighted_stats(RankNET_nested[:, 2], RankNET_nested[:, 4])\n",
    "iPER_mixed_mean, iPER_mixed_ci = weighted_stats(RankNET_nested[:, 3], RankNET_nested[:, 5])\n",
    "\n",
    "# Format for printing (in %)\n",
    "results = {\n",
    "    \"PER (test)\": format_result(PER_test_mean * 100, PER_test_std * 100),\n",
    "    \"PER (mixed)\": format_result(PER_mixed_mean * 100, PER_mixed_std * 100),\n",
    "    \"iPER (test)\": format_result(iPER_test_mean * 100, iPER_test_ci * 100),\n",
    "    \"iPER (mixed)\": format_result(iPER_mixed_mean * 100, iPER_mixed_ci * 100)\n",
    "}\n",
    "\n",
    "# Print results\n",
    "print(\"Evaluation Results (mean ± 95% CI):\")\n",
    "for name, value in results.items():\n",
    "    print(f\"{name:15s}: {value}\")"
   ]
  },
  {
   "cell_type": "markdown",
   "metadata": {},
   "source": [
    "## Tuning HP on IDB"
   ]
  },
  {
   "cell_type": "code",
   "execution_count": null,
   "metadata": {},
   "outputs": [],
   "source": [
    "param_values = {\n",
    "    \"hidden_dim\": [32,64],\n",
    "    \"n_hidden\": [2,4],\n",
    "    \"num_epochs\": [5,10],\n",
    "    \"weight_decay\": [0.01,0.0001,0],\n",
    "    \"batch_size\": [512]\n",
    "} \n",
    "\n",
    "hyperparameters_grid = create_hp_grid(param_values)"
   ]
  },
  {
   "cell_type": "code",
   "execution_count": null,
   "metadata": {},
   "outputs": [],
   "source": [
    "RankNET_final = RankNETCV(X_mb_tensor,y_mb_tensor,classes,hyperparameters_grid,n_itter=1)"
   ]
  },
  {
   "cell_type": "markdown",
   "metadata": {},
   "source": [
    "## Evaluating on ILD"
   ]
  },
  {
   "cell_type": "code",
   "execution_count": null,
   "metadata": {},
   "outputs": [
    {
     "data": {
      "text/plain": [
       "<matplotlib.collections.PathCollection at 0x3214731a0>"
      ]
     },
     "execution_count": 28,
     "metadata": {},
     "output_type": "execute_result"
    },
    {
     "data": {
      "image/png": "[encoded data removed]",
      "text/plain": [
       "<Figure size 640x480 with 1 Axes>"
      ]
     },
     "metadata": {},
     "output_type": "display_data"
    }
   ],
   "source": [
    "preds_articles = RankNET_final(X_a_tensor).cpu().detach().numpy().reshape(-1)\n",
    "selected = dois_a == 'https://doi.org/10.1016/S0021-9673(01)95521-9'\n",
    "plt.scatter(preds_articles[selected],y_a[selected])"
   ]
  },
  {
   "cell_type": "code",
   "execution_count": null,
   "metadata": {},
   "outputs": [
    {
     "name": "stdout",
     "output_type": "stream",
     "text": [
      "Evaluation Results:\n",
      "PER            : 92.9 %\n",
      "iPER           : 77.0 %\n",
      "MAPE_reg       : 13.0 %\n",
      "MedAPE_reg     : 9.8 %\n",
      "MAPE_int       : 11.3 %\n",
      "MedAPE_int     : 9.2 %\n"
     ]
    }
   ],
   "source": [
    "PERs = []\n",
    "n_pairs = []\n",
    "iPERs = []\n",
    "n_ipairs = []\n",
    "\n",
    "n_samples = []\n",
    "MAPE_reg = []\n",
    "MedAPE_reg = []\n",
    "\n",
    "MAPE_int = []\n",
    "MedAPE_int = []\n",
    "\n",
    "pairwise_rows = []\n",
    "regression_rows = []\n",
    "\n",
    "i = 0\n",
    "s = list(set(dois_a))\n",
    "\n",
    "for doi in s:\n",
    "    selected = dois_a == doi\n",
    "    num = sum(selected)\n",
    "    # Compute stats for articles with 5 and more molecules, for more reliable performance estimation\n",
    "    if num > 4:\n",
    "        preds_sel = preds_articles[selected]\n",
    "        y_sel = y_a[selected]\n",
    "        f_sel = f_a[selected]\n",
    "\n",
    "        RegMetrics = compute_safe_linear_regression_metrics(preds_sel, y_sel, n_splits=num)\n",
    "        IntMetrics = compute_safe_interpolation_metrics(preds_sel, y_sel, n_splits=num)\n",
    "        PMetrics = PairwiseMetrics(y_sel, preds_sel, np.array(range(num)), f_sel)\n",
    "\n",
    "        # --- Regression/interpolation metrics ---\n",
    "        n_samples.append(num)\n",
    "        MAPE_reg.append(RegMetrics['MAPE'])\n",
    "        MedAPE_reg.append(RegMetrics['MedAPE'])\n",
    "        MAPE_int.append(IntMetrics['MAPE'])\n",
    "        MedAPE_int.append(IntMetrics['MedAPE'])\n",
    "\n",
    "        regression_rows.append({\n",
    "            'DOI': doi,\n",
    "            'n_samples': num,\n",
    "            'MAPE_reg': RegMetrics['MAPE'],\n",
    "            'MedAPE_reg': RegMetrics['MedAPE'],\n",
    "            'MAPE_int': IntMetrics['MAPE'],\n",
    "            'MedAPE_int': IntMetrics['MedAPE']\n",
    "        })\n",
    "\n",
    "        # --- Pairwise metrics ---\n",
    "        per = PMetrics['PER_test']\n",
    "        ni = PMetrics['ni_test']\n",
    "        n_total_pairs = num * (num - 1) / 2\n",
    "\n",
    "        PERs.append(per)\n",
    "        n_pairs.append(n_total_pairs)\n",
    "\n",
    "        row = {\n",
    "            'DOI': doi,\n",
    "            'n_pairs': n_total_pairs,\n",
    "            'PER': per\n",
    "        }\n",
    "\n",
    "        if ni != 0:\n",
    "            iPERs.append(PMetrics['iPER_test'])\n",
    "            n_ipairs.append(ni)\n",
    "            row['iPER'] = PMetrics['iPER_test']\n",
    "            row['n_ipairs'] = ni\n",
    "        else:\n",
    "            row['iPER'] = ''\n",
    "            row['n_ipairs'] = ''\n",
    "\n",
    "        pairwise_rows.append(row)\n",
    "\n",
    "# Convert to numpy arrays\n",
    "PERs = np.array(PERs)\n",
    "n_pairs = np.array(n_pairs)\n",
    "iPERs = np.array(iPERs)\n",
    "n_ipairs = np.array(n_ipairs)\n",
    "MAPE_reg = np.array(MAPE_reg)\n",
    "MedAPE_reg = np.array(MedAPE_reg)\n",
    "MAPE_int = np.array(MAPE_int)\n",
    "MedAPE_int = np.array(MedAPE_int)\n",
    "n_samples = np.array(n_samples)\n",
    "\n",
    "# Summary statistics\n",
    "PER_str = format_result(*[x * 100 for x in weighted_stats(PERs, n_pairs)])\n",
    "iPER_str = format_result(*[x * 100 for x in weighted_stats(iPERs, n_ipairs)])\n",
    "MAPE_reg_str = format_result(*weighted_stats(MAPE_reg, n_samples))\n",
    "MedAPE_reg_str = format_result(*weighted_stats(MedAPE_reg, n_samples))\n",
    "MAPE_int_str = format_result(*weighted_stats(MAPE_int, n_samples))\n",
    "MedAPE_int_str = format_result(*weighted_stats(MedAPE_int, n_samples))\n",
    "\n",
    "results = {\n",
    "    'PER': PER_str,\n",
    "    'iPER': iPER_str,\n",
    "    'MAPE_reg': MAPE_reg_str,\n",
    "    'MedAPE_reg': MedAPE_reg_str,\n",
    "    'MAPE_int': MAPE_int_str,\n",
    "    'MedAPE_int': MedAPE_int_str\n",
    "}\n",
    "\n",
    "print(\"Evaluation Results:\")\n",
    "for name, value in results.items():\n",
    "    print(f\"{name:15s}: {value.split('±')[0]}%\")\n",
    "\n",
    "# --- Write to CSV files ---\n",
    "with open(current_dir.parent / 'output' / 'ILD_results_p1' / 'NNMRPairM.csv', 'w', newline='') as f:\n",
    "    writer = csv.DictWriter(f, fieldnames=['DOI', 'n_pairs', 'PER', 'n_ipairs', 'iPER'])\n",
    "    writer.writeheader()\n",
    "    writer.writerows(pairwise_rows)\n",
    "\n",
    "with open(current_dir.parent / 'output' / 'ILD_results_p1' / 'NNMRRegM.csv', 'w', newline='') as f:\n",
    "    writer = csv.DictWriter(f, fieldnames=['DOI', 'n_samples', 'MAPE_reg', 'MedAPE_reg', 'MAPE_int', 'MedAPE_int'])\n",
    "    writer.writeheader()\n",
    "    writer.writerows(regression_rows)\n"
   ]
  },
  {
   "cell_type": "markdown",
   "metadata": {},
   "source": [
    "# Training on ILD"
   ]
  },
  {
   "cell_type": "code",
   "execution_count": null,
   "metadata": {},
   "outputs": [],
   "source": [
    "RD_acc = RelDiffErrorAccumulator()"
   ]
  },
  {
   "cell_type": "code",
   "execution_count": null,
   "metadata": {},
   "outputs": [],
   "source": [
    "param_values = {\n",
    "    \"hidden_dim\": [32,64],\n",
    "    \"n_hidden\": [2,4],\n",
    "    \"num_epochs\": [5,10],\n",
    "    \"weight_decay\": [0.01,0.0001,0],\n",
    "    \"batch_size\": [512]\n",
    "}\n",
    "hyperparameters_grid = create_hp_grid(param_values)\n",
    "train_loader = DataloaderRankNet(X_a_tensor,y_a_tensor,dois_a,batch_size=512)\n",
    "ild_results,ild_reg_metrics,ild_int_metrics = ILD_cv(train_loader,X_mb_tensor,y_mb_tensor,classes,f_mb,hyperparameters_grid,n_itter=5,n_splits=5,accumulator=RD_acc)\n",
    "ild_results,ild_reg_metrics,ild_int_metrics = np.array(ild_results),np.array(ild_reg_metrics), np.array(ild_int_metrics)\n",
    "np.savetxt(current_dir.parent/'output'/'IDB_results_p2'/'NNMRR2.csv',ild_results)"
   ]
  },
  {
   "cell_type": "code",
   "execution_count": null,
   "metadata": {},
   "outputs": [],
   "source": [
    "def write_accumulator_to_csv(accumulator, output_path):\n",
    "    \"\"\"\n",
    "    Writes the contents of a RelDiffErrorAccumulator instance to a CSV file.\n",
    "\n",
    "    Parameters:\n",
    "    - accumulator: an instance of RelDiffErrorAccumulator\n",
    "    - output_path: path to the output CSV file\n",
    "    \"\"\"\n",
    "    with open(output_path, mode='w', newline='') as csvfile:\n",
    "        writer = csv.writer(csvfile)\n",
    "        writer.writerow(['rel_diff', 'error', 'is_isomer'])  # header\n",
    "\n",
    "        for rel_diff, error, is_isomer in zip(\n",
    "            accumulator.rel_diffs,\n",
    "            accumulator.errors,\n",
    "            accumulator.isomeric_flags\n",
    "        ):\n",
    "            writer.writerow([rel_diff, int(error), int(is_isomer)])\n",
    "\n",
    "write_accumulator_to_csv(RD_acc,current_dir.parent/'output'/'Accumulators'/'NNMRR2.csv')"
   ]
  },
  {
   "cell_type": "code",
   "execution_count": null,
   "metadata": {},
   "outputs": [
    {
     "data": {
      "image/png": "[encoded data removed]",
      "text/plain": [
       "<Figure size 1000x600 with 2 Axes>"
      ]
     },
     "metadata": {},
     "output_type": "display_data"
    }
   ],
   "source": [
    "plot_rel_diff_error_distribution(RD_acc,isomeric_only=True,bin_edges=np.linspace(0, 2.0, 21))"
   ]
  },
  {
   "cell_type": "code",
   "execution_count": null,
   "metadata": {},
   "outputs": [
    {
     "name": "stdout",
     "output_type": "stream",
     "text": [
      "Evaluation Results (mean ± 95% CI):\n",
      "PER (test)     : 10.5 ± 1.1\n",
      "PER (mixed)    : 10.49 ± 0.21\n",
      "iPER (test)    : 20.9 ± 3.6\n",
      "iPER (mixed)   : 20.7 ± 1.1\n"
     ]
    }
   ],
   "source": [
    "# Unweighted metrics (PER)\n",
    "PER_test_mean, PER_test_std = np.mean(ild_results[:, 0]), np.std(ild_results[:, 0])# / np.sqrt(len(ild_results[:, 0])) * 1.96\n",
    "PER_mixed_mean, PER_mixed_std = np.mean(ild_results[:, 1]), np.std(ild_results[:, 1])# / np.sqrt(len(ild_results[:, 1])) * 1.96\n",
    "\n",
    "# Weighted metrics (iPER)\n",
    "iPER_test_mean, iPER_test_ci = weighted_stats(ild_results[:, 2], ild_results[:, 4])\n",
    "iPER_mixed_mean, iPER_mixed_ci = weighted_stats(ild_results[:, 3], ild_results[:, 5])\n",
    "\n",
    "# Format for printing (in %)\n",
    "results = {\n",
    "    \"PER (test)\": format_result(PER_test_mean * 100, PER_test_std * 100),\n",
    "    \"PER (mixed)\": format_result(PER_mixed_mean * 100, PER_mixed_std * 100),\n",
    "    \"iPER (test)\": format_result(iPER_test_mean * 100, iPER_test_ci * 100),\n",
    "    \"iPER (mixed)\": format_result(iPER_mixed_mean * 100, iPER_mixed_ci * 100)\n",
    "}\n",
    "\n",
    "# Print results\n",
    "print(\"Evaluation Results (mean ± 95% CI):\")\n",
    "for name, value in results.items():\n",
    "    print(f\"{name:15s}: {value}\")"
   ]
  },
  {
   "cell_type": "code",
   "execution_count": null,
   "metadata": {},
   "outputs": [
    {
     "name": "stdout",
     "output_type": "stream",
     "text": [
      "Evaluation Results (mean ± 95% CI):\n",
      "MAPE           : 9.7 ± 0.76\n",
      "MedAPE         : 7.2 ± 1.0\n"
     ]
    }
   ],
   "source": [
    "# Unweighted metrics (PER)\n",
    "MAPE, MAPE_std = np.mean(ild_reg_metrics[:, 0]), np.std(ild_reg_metrics[:, 0]) #/ np.sqrt(len(ild_reg_metrics[:, 0])) * 1.96\n",
    "MedAPE, MedAPE_std = np.mean(ild_reg_metrics[:, 1]), np.std(ild_reg_metrics[:, 1]) # / np.sqrt(len(ild_reg_metrics[:, 1])) * 1.96\n",
    "\n",
    "# Format for printing (in %)\n",
    "results = {\n",
    "    \"MAPE\": format_result(MAPE, MAPE_std),\n",
    "    \"MedAPE\": format_result(MedAPE, MedAPE_std),\n",
    "}\n",
    "\n",
    "# Print results\n",
    "print(\"Evaluation Results (mean ± 95% CI):\")\n",
    "for name, value in results.items():\n",
    "    print(f\"{name:15s}: {value}\")"
   ]
  },
  {
   "cell_type": "code",
   "execution_count": null,
   "metadata": {},
   "outputs": [
    {
     "name": "stdout",
     "output_type": "stream",
     "text": [
      "Evaluation Results (mean ± 95% CI):\n",
      "MAPE           : 10.3 ± 1.1\n",
      "MedAPE         : 8.5 ± 1.4\n"
     ]
    }
   ],
   "source": [
    "# Unweighted metrics (PER)\n",
    "MAPE, MAPE_std = np.mean(ild_int_metrics[:, 0]), np.std(ild_int_metrics[:, 0],ddof=1)# / np.sqrt(len(ild_int_metrics[:, 0])) * 1.96\n",
    "MedAPE, MedAPE_std = np.mean(ild_int_metrics[:, 1]), np.std(ild_int_metrics[:, 1],ddof=1)# / np.sqrt(len(ild_int_metrics[:, 1])) * 1.96\n",
    "\n",
    "# Format for printing (in %)\n",
    "results = {\n",
    "    \"MAPE\": format_result(MAPE, MAPE_std),\n",
    "    \"MedAPE\": format_result(MedAPE, MedAPE_std),\n",
    "}\n",
    "\n",
    "# Print results\n",
    "print(\"Evaluation Results (mean ± 95% CI):\")\n",
    "for name, value in results.items():\n",
    "    print(f\"{name:15s}: {value}\")"
   ]
  }
 ],
 "metadata": {
  "kernelspec": {
   "display_name": "DataSphere Kernel",
   "language": "python",
   "name": "python3"
  },
  "language_info": {
   "codemirror_mode": {
    "name": "ipython",
    "version": 3
   },
   "file_extension": ".py",
   "mimetype": "text/x-python",
   "name": "python",
   "nbconvert_exporter": "python",
   "pygments_lexer": "ipython3",
   "version": "3.10.12"
  }
 },
 "nbformat": 4,
 "nbformat_minor": 4
}
