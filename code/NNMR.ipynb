{
 "cells": [
  {
   "cell_type": "code",
   "execution_count": 1,
   "metadata": {
    "execution": {
     "iopub.execute_input": "2025-08-18T08:23:35.425638Z",
     "iopub.status.busy": "2025-08-18T08:23:35.424154Z",
     "iopub.status.idle": "2025-08-18T08:23:37.841883Z",
     "shell.execute_reply": "2025-08-18T08:23:37.840628Z",
     "shell.execute_reply.started": "2025-08-18T08:23:35.425574Z"
    },
    "tags": []
   },
   "outputs": [],
   "source": [
    "# Data analysis\n",
    "import pandas as pd\n",
    "import numpy as np \n",
    "import matplotlib.pyplot as plt\n",
    "import scipy as scipy\n",
    "\n",
    "\n",
    "#PyTorch\n",
    "import torch\n",
    "\n",
    "# Custom modules \n",
    "from Modules.LinearModels.CVLinearModels import PairwiseMetrics\n",
    "from Modules.FingerPrints.ParsingFunctions import get_sub_dict\n",
    "from Modules.FingerPrints.GeneratingFunctions import FirstDegreeFP\n",
    "from Modules.FingerPrints.KernelFP import KernelFPGenerator\n",
    "from Modules.NeuralNetworks.MRLoss.RankNETMR import DataloaderRankNet\n",
    "from Modules.NeuralNetworks.MRLoss.CVNNMR import NestedCV,RankNETCV,ILD_cv\n",
    "from Modules.HelperFunctions import *\n",
    "# CONSTANTS\n",
    "from pathlib import Path\n",
    "import csv\n",
    "# Get the directory of the current file\n",
    "current_dir = Path().cwd()\n",
    "METABOBASE_PATH = current_dir.parent / \"data\" / \"IDB.csv\"\n",
    "ARTICLES_PATH = current_dir.parent / \"data\"  / \"ILD.csv\"\n",
    "DEVICE = 'cuda' if torch.cuda.is_available() else 'cpu'\n"
   ]
  },
  {
   "cell_type": "markdown",
   "metadata": {},
   "source": [
    "# Data"
   ]
  },
  {
   "cell_type": "code",
   "execution_count": 2,
   "metadata": {
    "execution": {
     "iopub.execute_input": "2025-08-18T08:23:37.845003Z",
     "iopub.status.busy": "2025-08-18T08:23:37.843750Z",
     "iopub.status.idle": "2025-08-18T08:23:37.866241Z",
     "shell.execute_reply": "2025-08-18T08:23:37.865243Z",
     "shell.execute_reply.started": "2025-08-18T08:23:37.844951Z"
    },
    "tags": []
   },
   "outputs": [],
   "source": [
    "FPGen = KernelFPGenerator(generating_function=FirstDegreeFP,parsing_function=get_sub_dict)"
   ]
  },
  {
   "cell_type": "markdown",
   "metadata": {},
   "source": [
    "## IMB"
   ]
  },
  {
   "cell_type": "code",
   "execution_count": 3,
   "metadata": {
    "execution": {
     "iopub.execute_input": "2025-08-18T08:23:37.869018Z",
     "iopub.status.busy": "2025-08-18T08:23:37.867619Z",
     "iopub.status.idle": "2025-08-18T08:23:37.958720Z",
     "shell.execute_reply": "2025-08-18T08:23:37.957697Z",
     "shell.execute_reply.started": "2025-08-18T08:23:37.868969Z"
    },
    "tags": []
   },
   "outputs": [],
   "source": [
    "mb_data = pd.read_csv(METABOBASE_PATH)\n",
    "dois_mb = mb_data['DOI'].to_numpy()\n",
    "X_mb = np.stack(mb_data['SMILES'].apply(FPGen.generate))\n",
    "y_mb = mb_data['RT'].to_numpy()\n",
    "f_mb = mb_data['Formula'].to_numpy()"
   ]
  },
  {
   "cell_type": "code",
   "execution_count": 4,
   "metadata": {
    "execution": {
     "iopub.execute_input": "2025-08-18T08:23:37.962056Z",
     "iopub.status.busy": "2025-08-18T08:23:37.961082Z",
     "iopub.status.idle": "2025-08-18T08:23:38.000222Z",
     "shell.execute_reply": "2025-08-18T08:23:37.999116Z",
     "shell.execute_reply.started": "2025-08-18T08:23:37.962008Z"
    },
    "tags": []
   },
   "outputs": [],
   "source": [
    "X_mb_tensor = torch.tensor(X_mb,dtype=torch.float32,device=DEVICE)\n",
    "y_mb_tensor = torch.tensor(y_mb,dtype=torch.float32,device=DEVICE)"
   ]
  },
  {
   "cell_type": "markdown",
   "metadata": {},
   "source": [
    "## ILD"
   ]
  },
  {
   "cell_type": "code",
   "execution_count": 5,
   "metadata": {
    "execution": {
     "iopub.execute_input": "2025-08-18T08:23:38.002937Z",
     "iopub.status.busy": "2025-08-18T08:23:38.001806Z",
     "iopub.status.idle": "2025-08-18T08:23:38.245576Z",
     "shell.execute_reply": "2025-08-18T08:23:38.244394Z",
     "shell.execute_reply.started": "2025-08-18T08:23:38.002877Z"
    },
    "tags": []
   },
   "outputs": [],
   "source": [
    "a_data = pd.read_csv(ARTICLES_PATH)\n",
    "\n",
    "X_a = np.stack(a_data['SMILES'].apply(FPGen.generate).to_numpy())\n",
    "f_a = a_data['FORMULA'].to_numpy()\n",
    "RTs_a = a_data['RT'].to_numpy()\n",
    "dois_a = a_data['DOI'].to_numpy()\n",
    "y_a = a_data['RT'].to_numpy()"
   ]
  },
  {
   "cell_type": "code",
   "execution_count": 6,
   "metadata": {
    "execution": {
     "iopub.execute_input": "2025-08-18T08:23:38.248847Z",
     "iopub.status.busy": "2025-08-18T08:23:38.246762Z",
     "iopub.status.idle": "2025-08-18T08:23:38.274120Z",
     "shell.execute_reply": "2025-08-18T08:23:38.272997Z",
     "shell.execute_reply.started": "2025-08-18T08:23:38.248799Z"
    },
    "tags": []
   },
   "outputs": [],
   "source": [
    "X_a_tensor = torch.tensor(X_a,dtype=torch.float32,device=DEVICE)\n",
    "y_a_tensor = torch.tensor(y_a,dtype=torch.float32,device=DEVICE)"
   ]
  },
  {
   "cell_type": "markdown",
   "metadata": {},
   "source": [
    "## Stratification"
   ]
  },
  {
   "cell_type": "code",
   "execution_count": 7,
   "metadata": {
    "execution": {
     "iopub.execute_input": "2025-08-18T08:23:38.277363Z",
     "iopub.status.busy": "2025-08-18T08:23:38.275618Z",
     "iopub.status.idle": "2025-08-18T08:23:38.309725Z",
     "shell.execute_reply": "2025-08-18T08:23:38.308603Z",
     "shell.execute_reply.started": "2025-08-18T08:23:38.277314Z"
    },
    "tags": []
   },
   "outputs": [],
   "source": [
    "def get_retention_time_class(retention_time, retention_times=y_mb, num_classes=3):\n",
    "  \"\"\"\n",
    "  Determines the retention time class for a given retention time.\n",
    "\n",
    "  Args:\n",
    "    retention_time: The retention time of the compound.\n",
    "    retention_times: A list or array of all retention times in the dataset.\n",
    "    num_classes: The desired number of retention time classes.\n",
    "\n",
    "  Returns:\n",
    "    The retention time class (an integer between 0 and num_classes-1).\n",
    "  \"\"\"\n",
    "\n",
    "  # Calculate class boundaries\n",
    "  min_rt = np.min(retention_times)\n",
    "  max_rt = np.max(retention_times)\n",
    "  class_boundaries = np.linspace(min_rt, max_rt+0.001, num_classes+1)\n",
    "\n",
    "  # Determine the class index\n",
    "  class_index = np.digitize(retention_time, class_boundaries) - 1\n",
    "  return class_index\n",
    "\n",
    "\n",
    "classes = list(map(get_retention_time_class,y_mb))"
   ]
  },
  {
   "cell_type": "markdown",
   "metadata": {},
   "source": [
    "# RankNET MRLoss"
   ]
  },
  {
   "cell_type": "markdown",
   "metadata": {},
   "source": [
    "## Nested CV"
   ]
  },
  {
   "cell_type": "code",
   "execution_count": null,
   "metadata": {
    "execution": {
     "iopub.execute_input": "2025-08-18T08:23:38.313556Z",
     "iopub.status.busy": "2025-08-18T08:23:38.311032Z"
    },
    "tags": []
   },
   "outputs": [],
   "source": [
    "param_values = {\n",
    "    \"hidden_dim\": [32,64],\n",
    "    \"n_hidden\": [2,4],\n",
    "    \"num_epochs\": [5,10],\n",
    "    \"weight_decay\": [0.01,0.0001,0],\n",
    "    \"batch_size\": [512]\n",
    "} \n",
    "RD_acc_idb = RelDiffErrorAccumulator()\n",
    "hyperparameters_grid = create_hp_grid(param_values)\n",
    "RankNET_nested = np.array(NestedCV(X_mb_tensor,y_mb_tensor,classes,f_mb,hyperparameters_grid,RankNETCV,n_itter_inner=10,n_itter_out=10,accumulator=RD_acc_idb))\n",
    "save_dir = current_dir.parent / \"output\" / 'IDB_results_p1' / 'NNMR.csv'\n",
    "np.savetxt(save_dir,RankNET_nested)"
   ]
  },
  {
   "cell_type": "code",
   "execution_count": null,
   "metadata": {},
   "outputs": [],
   "source": [
    "def write_accumulator_to_csv(accumulator, output_path):\n",
    "    \"\"\"\n",
    "    Writes the contents of a RelDiffErrorAccumulator instance to a CSV file.\n",
    "\n",
    "    Parameters:\n",
    "    - accumulator: an instance of RelDiffErrorAccumulator\n",
    "    - output_path: path to the output CSV file\n",
    "    \"\"\"\n",
    "    with open(output_path, mode='w', newline='') as csvfile:\n",
    "        writer = csv.writer(csvfile)\n",
    "        writer.writerow(['rel_diff', 'error', 'is_isomer'])  # header\n",
    "\n",
    "        for rel_diff, error, is_isomer in zip(\n",
    "            accumulator.rel_diffs,\n",
    "            accumulator.errors,\n",
    "            accumulator.isomeric_flags\n",
    "        ):\n",
    "            writer.writerow([rel_diff, int(error), int(is_isomer)])\n",
    "\n",
    "write_accumulator_to_csv(RD_acc_idb,current_dir.parent/'output'/'Accumulators_IDB'/'NNMR.csv')"
   ]
  },
  {
   "cell_type": "code",
   "execution_count": 23,
   "metadata": {
    "execution": {
     "iopub.execute_input": "2025-08-18T19:50:34.198681Z",
     "iopub.status.busy": "2025-08-18T19:50:34.197384Z",
     "iopub.status.idle": "2025-08-18T19:50:34.835513Z",
     "shell.execute_reply": "2025-08-18T19:50:34.834306Z",
     "shell.execute_reply.started": "2025-08-18T19:50:34.198622Z"
    }
   },
   "outputs": [
    {
     "data": {
      "image/png": "[encoded data removed]",
      "text/plain": [
       "<Figure size 1000x600 with 2 Axes>"
      ]
     },
     "metadata": {},
     "output_type": "display_data"
    }
   ],
   "source": [
    "plot_rel_diff_error_distribution(RD_acc_idb,isomeric_only=False,bin_edges=np.linspace(0, 2.0, 42))"
   ]
  },
  {
   "cell_type": "code",
   "execution_count": 24,
   "metadata": {
    "execution": {
     "iopub.execute_input": "2025-08-18T19:50:39.581028Z",
     "iopub.status.busy": "2025-08-18T19:50:39.579963Z",
     "iopub.status.idle": "2025-08-18T19:50:39.624272Z",
     "shell.execute_reply": "2025-08-18T19:50:39.623108Z",
     "shell.execute_reply.started": "2025-08-18T19:50:39.580977Z"
    },
    "tags": []
   },
   "outputs": [
    {
     "name": "stdout",
     "output_type": "stream",
     "text": [
      "Evaluation Results (mean ± std):\n",
      "PER (test)     : 7.4 ± 4.4\n",
      "PER (mixed)    : 6.0 ± 1.8\n",
      "iPER (test)    : 18.0 ± 22.0\n",
      "iPER (mixed)   : 12.7 ± 6.1\n"
     ]
    }
   ],
   "source": [
    "# Unweighted metrics (PER)\n",
    "PER_test_mean, PER_test_std = np.mean(RankNET_nested[:, 0]), np.std(RankNET_nested[:, 0]) \n",
    "PER_mixed_mean, PER_mixed_std = np.mean(RankNET_nested[:, 1]), np.std(RankNET_nested[:, 1])\n",
    "\n",
    "# Weighted metrics (iPER)\n",
    "iPER_test_mean, iPER_test_ci = weighted_stats(RankNET_nested[:, 2], RankNET_nested[:, 4])\n",
    "iPER_mixed_mean, iPER_mixed_ci = weighted_stats(RankNET_nested[:, 3], RankNET_nested[:, 5])\n",
    "\n",
    "# Format for printing (in %)\n",
    "results = {\n",
    "    \"PER (test)\": format_result(PER_test_mean * 100, PER_test_std * 100),\n",
    "    \"PER (mixed)\": format_result(PER_mixed_mean * 100, PER_mixed_std * 100),\n",
    "    \"iPER (test)\": format_result(iPER_test_mean * 100, iPER_test_ci * 100),\n",
    "    \"iPER (mixed)\": format_result(iPER_mixed_mean * 100, iPER_mixed_ci * 100)\n",
    "}\n",
    "\n",
    "# Print results\n",
    "print(\"Evaluation Results (mean ± std):\")\n",
    "for name, value in results.items():\n",
    "    print(f\"{name:15s}: {value}\")"
   ]
  },
  {
   "cell_type": "markdown",
   "metadata": {},
   "source": [
    "## Tuning HP on IDB"
   ]
  },
  {
   "cell_type": "code",
   "execution_count": null,
   "metadata": {
    "tags": []
   },
   "outputs": [],
   "source": [
    "param_values = {\n",
    "    \"hidden_dim\": [32,64],\n",
    "    \"n_hidden\": [2,4],\n",
    "    \"num_epochs\": [5,10],\n",
    "    \"weight_decay\": [0.01,0.0001,0],\n",
    "    \"batch_size\": [512]\n",
    "} \n",
    "\n",
    "hyperparameters_grid = create_hp_grid(param_values)"
   ]
  },
  {
   "cell_type": "code",
   "execution_count": null,
   "metadata": {
    "tags": []
   },
   "outputs": [],
   "source": [
    "RankNET_final = RankNETCV(X_mb_tensor,y_mb_tensor,classes,hyperparameters_grid,n_itter=5)"
   ]
  },
  {
   "cell_type": "markdown",
   "metadata": {},
   "source": [
    "## Evaluating on ILD"
   ]
  },
  {
   "cell_type": "code",
   "execution_count": null,
   "metadata": {
    "tags": []
   },
   "outputs": [],
   "source": [
    "preds_articles = RankNET_final(X_a_tensor).cpu().detach().numpy().reshape(-1)\n",
    "selected = dois_a == 'https://doi.org/10.1016/S0021-9673(01)95521-9'\n",
    "plt.scatter(preds_articles[selected],y_a[selected])"
   ]
  },
  {
   "cell_type": "code",
   "execution_count": null,
   "metadata": {
    "tags": []
   },
   "outputs": [],
   "source": [
    "PERs = []\n",
    "n_pairs = []\n",
    "iPERs = []\n",
    "n_ipairs = []\n",
    "\n",
    "n_samples = []\n",
    "MAPE_reg = []\n",
    "MedAPE_reg = []\n",
    "\n",
    "MAPE_int = []\n",
    "MedAPE_int = []\n",
    "\n",
    "pairwise_rows = []\n",
    "regression_rows = []\n",
    "\n",
    "i = 0\n",
    "s = list(set(dois_a))\n",
    "\n",
    "for doi in s:\n",
    "    selected = dois_a == doi\n",
    "    num = sum(selected)\n",
    "    # Compute stats for articles with 5 and more molecules, for more reliable performance estimation\n",
    "    if num > 4:\n",
    "        preds_sel = preds_articles[selected]\n",
    "        y_sel = y_a[selected]\n",
    "        f_sel = f_a[selected]\n",
    "\n",
    "        RegMetrics = compute_safe_linear_regression_metrics(preds_sel, y_sel, n_splits=num)\n",
    "        IntMetrics = compute_safe_interpolation_metrics(preds_sel, y_sel, n_splits=num)\n",
    "        PMetrics = PairwiseMetrics(y_sel, preds_sel, np.array(range(num)), f_sel)\n",
    "\n",
    "        # --- Regression/interpolation metrics ---\n",
    "        n_samples.append(num)\n",
    "        MAPE_reg.append(RegMetrics['MAPE'])\n",
    "        MedAPE_reg.append(RegMetrics['MedAPE'])\n",
    "        MAPE_int.append(IntMetrics['MAPE'])\n",
    "        MedAPE_int.append(IntMetrics['MedAPE'])\n",
    "\n",
    "        regression_rows.append({\n",
    "            'DOI': doi,\n",
    "            'n_samples': num,\n",
    "            'MAPE_reg': RegMetrics['MAPE'],\n",
    "            'MedAPE_reg': RegMetrics['MedAPE'],\n",
    "            'MAPE_int': IntMetrics['MAPE'],\n",
    "            'MedAPE_int': IntMetrics['MedAPE']\n",
    "        })\n",
    "\n",
    "        # --- Pairwise metrics ---\n",
    "        per = PMetrics['PER_test']\n",
    "        ni = PMetrics['ni_test']\n",
    "        n_total_pairs = num * (num - 1) / 2\n",
    "\n",
    "        PERs.append(per)\n",
    "        n_pairs.append(n_total_pairs)\n",
    "\n",
    "        row = {\n",
    "            'DOI': doi,\n",
    "            'n_pairs': n_total_pairs,\n",
    "            'PER': per\n",
    "        }\n",
    "\n",
    "        if ni != 0:\n",
    "            iPERs.append(PMetrics['iPER_test'])\n",
    "            n_ipairs.append(ni)\n",
    "            row['iPER'] = PMetrics['iPER_test']\n",
    "            row['n_ipairs'] = ni\n",
    "        else:\n",
    "            row['iPER'] = ''\n",
    "            row['n_ipairs'] = ''\n",
    "\n",
    "        pairwise_rows.append(row)\n",
    "\n",
    "# Convert to numpy arrays\n",
    "PERs = np.array(PERs)\n",
    "n_pairs = np.array(n_pairs)\n",
    "iPERs = np.array(iPERs)\n",
    "n_ipairs = np.array(n_ipairs)\n",
    "MAPE_reg = np.array(MAPE_reg)\n",
    "MedAPE_reg = np.array(MedAPE_reg)\n",
    "MAPE_int = np.array(MAPE_int)\n",
    "MedAPE_int = np.array(MedAPE_int)\n",
    "n_samples = np.array(n_samples)\n",
    "\n",
    "# Summary statistics\n",
    "PER_str = format_result(*[x * 100 for x in weighted_stats(PERs, n_pairs)])\n",
    "iPER_str = format_result(*[x * 100 for x in weighted_stats(iPERs, n_ipairs)])\n",
    "MAPE_reg_str = format_result(*weighted_stats(MAPE_reg, n_samples))\n",
    "MedAPE_reg_str = format_result(*weighted_stats(MedAPE_reg, n_samples))\n",
    "MAPE_int_str = format_result(*weighted_stats(MAPE_int, n_samples))\n",
    "MedAPE_int_str = format_result(*weighted_stats(MedAPE_int, n_samples))\n",
    "\n",
    "results = {\n",
    "    'PER': PER_str,\n",
    "    'iPER': iPER_str,\n",
    "    'MAPE_reg': MAPE_reg_str,\n",
    "    'MedAPE_reg': MedAPE_reg_str,\n",
    "    'MAPE_int': MAPE_int_str,\n",
    "    'MedAPE_int': MedAPE_int_str\n",
    "}\n",
    "\n",
    "print(\"Evaluation Results:\")\n",
    "for name, value in results.items():\n",
    "    print(f\"{name:15s}: {value.split('±')[0]}%\")\n",
    "\n",
    "# --- Write to CSV files ---\n",
    "with open(current_dir.parent / 'output' / 'ILD_results_p1' / 'NNMRPairM.csv', 'w', newline='') as f:\n",
    "    writer = csv.DictWriter(f, fieldnames=['DOI', 'n_pairs', 'PER', 'n_ipairs', 'iPER'])\n",
    "    writer.writeheader()\n",
    "    writer.writerows(pairwise_rows)\n",
    "\n",
    "with open(current_dir.parent / 'output' / 'ILD_results_p1' / 'NNMRRegM.csv', 'w', newline='') as f:\n",
    "    writer = csv.DictWriter(f, fieldnames=['DOI', 'n_samples', 'MAPE_reg', 'MedAPE_reg', 'MAPE_int', 'MedAPE_int'])\n",
    "    writer.writeheader()\n",
    "    writer.writerows(regression_rows)\n"
   ]
  },
  {
   "cell_type": "markdown",
   "metadata": {},
   "source": [
    "# Training on ILD"
   ]
  },
  {
   "cell_type": "code",
   "execution_count": null,
   "metadata": {
    "tags": []
   },
   "outputs": [],
   "source": [
    "RD_acc = RelDiffErrorAccumulator()"
   ]
  },
  {
   "cell_type": "code",
   "execution_count": null,
   "metadata": {
    "tags": []
   },
   "outputs": [],
   "source": [
    "param_values = {\n",
    "    \"hidden_dim\": [32,64],\n",
    "    \"n_hidden\": [2,4],\n",
    "    \"num_epochs\": [5,10],\n",
    "    \"weight_decay\": [0.01,0.0001,0],\n",
    "    \"batch_size\": [512]\n",
    "}\n",
    "hyperparameters_grid = create_hp_grid(param_values)\n",
    "train_loader = DataloaderRankNet(X_a_tensor,y_a_tensor,dois_a,batch_size=512)\n",
    "ild_results,ild_reg_metrics,ild_int_metrics = ILD_cv(train_loader,X_mb_tensor,y_mb_tensor,classes,f_mb,hyperparameters_grid,n_itter=10,n_splits=5,accumulator=RD_acc)\n",
    "ild_results,ild_reg_metrics,ild_int_metrics = np.array(ild_results),np.array(ild_reg_metrics), np.array(ild_int_metrics)\n",
    "np.savetxt(current_dir.parent/'output'/'IDB_results_p2'/'NNMRR2.csv',ild_results)"
   ]
  },
  {
   "cell_type": "code",
   "execution_count": null,
   "metadata": {
    "tags": []
   },
   "outputs": [],
   "source": [
    "def write_accumulator_to_csv(accumulator, output_path):\n",
    "    \"\"\"\n",
    "    Writes the contents of a RelDiffErrorAccumulator instance to a CSV file.\n",
    "\n",
    "    Parameters:\n",
    "    - accumulator: an instance of RelDiffErrorAccumulator\n",
    "    - output_path: path to the output CSV file\n",
    "    \"\"\"\n",
    "    with open(output_path, mode='w', newline='') as csvfile:\n",
    "        writer = csv.writer(csvfile)\n",
    "        writer.writerow(['rel_diff', 'error', 'is_isomer'])  # header\n",
    "\n",
    "        for rel_diff, error, is_isomer in zip(\n",
    "            accumulator.rel_diffs,\n",
    "            accumulator.errors,\n",
    "            accumulator.isomeric_flags\n",
    "        ):\n",
    "            writer.writerow([rel_diff, int(error), int(is_isomer)])\n",
    "\n",
    "write_accumulator_to_csv(RD_acc,current_dir.parent/'output'/'Accumulators'/'NNMRR2.csv')"
   ]
  },
  {
   "cell_type": "code",
   "execution_count": null,
   "metadata": {
    "tags": []
   },
   "outputs": [],
   "source": [
    "plot_rel_diff_error_distribution(RD_acc,isomeric_only=True,bin_edges=np.linspace(0, 2.0, 21))"
   ]
  },
  {
   "cell_type": "code",
   "execution_count": null,
   "metadata": {
    "tags": []
   },
   "outputs": [],
   "source": [
    "# Unweighted metrics (PER)\n",
    "PER_test_mean, PER_test_std = np.mean(ild_results[:, 0]), np.std(ild_results[:, 0])\n",
    "PER_mixed_mean, PER_mixed_std = np.mean(ild_results[:, 1]), np.std(ild_results[:, 1])\n",
    "\n",
    "# Weighted metrics (iPER)\n",
    "iPER_test_mean, iPER_test_ci = weighted_stats(ild_results[:, 2], ild_results[:, 4])\n",
    "iPER_mixed_mean, iPER_mixed_ci = weighted_stats(ild_results[:, 3], ild_results[:, 5])\n",
    "\n",
    "# Format for printing (in %)\n",
    "results = {\n",
    "    \"PER (test)\": format_result(PER_test_mean * 100, PER_test_std * 100),\n",
    "    \"PER (mixed)\": format_result(PER_mixed_mean * 100, PER_mixed_std * 100),\n",
    "    \"iPER (test)\": format_result(iPER_test_mean * 100, iPER_test_ci * 100),\n",
    "    \"iPER (mixed)\": format_result(iPER_mixed_mean * 100, iPER_mixed_ci * 100)\n",
    "}\n",
    "\n",
    "# Print results\n",
    "print(\"Evaluation Results (mean ± std):\")\n",
    "for name, value in results.items():\n",
    "    print(f\"{name:15s}: {value}\")"
   ]
  },
  {
   "cell_type": "code",
   "execution_count": null,
   "metadata": {
    "tags": []
   },
   "outputs": [],
   "source": [
    "# Unweighted metrics (PER)\n",
    "MAPE, MAPE_std = np.mean(ild_reg_metrics[:, 0]), np.std(ild_reg_metrics[:, 0]) \n",
    "MedAPE, MedAPE_std = np.mean(ild_reg_metrics[:, 1]), np.std(ild_reg_metrics[:, 1])\n",
    "\n",
    "# Format for printing (in %)\n",
    "results = {\n",
    "    \"MAPE\": format_result(MAPE, MAPE_std),\n",
    "    \"MedAPE\": format_result(MedAPE, MedAPE_std),\n",
    "}\n",
    "\n",
    "# Print results\n",
    "print(\"Evaluation Results (mean ± std):\")\n",
    "for name, value in results.items():\n",
    "    print(f\"{name:15s}: {value}\")"
   ]
  },
  {
   "cell_type": "code",
   "execution_count": null,
   "metadata": {
    "tags": []
   },
   "outputs": [],
   "source": [
    "# Unweighted metrics (PER)\n",
    "MAPE, MAPE_std = np.mean(ild_int_metrics[:, 0]), np.std(ild_int_metrics[:, 0],ddof=1)\n",
    "MedAPE, MedAPE_std = np.mean(ild_int_metrics[:, 1]), np.std(ild_int_metrics[:, 1],ddof=1)\n",
    "\n",
    "# Format for printing (in %)\n",
    "results = {\n",
    "    \"MAPE\": format_result(MAPE, MAPE_std),\n",
    "    \"MedAPE\": format_result(MedAPE, MedAPE_std),\n",
    "}\n",
    "\n",
    "# Print results\n",
    "print(\"Evaluation Results (mean ± std):\")\n",
    "for name, value in results.items():\n",
    "    print(f\"{name:15s}: {value}\")"
   ]
  },
  {
   "cell_type": "code",
   "execution_count": null,
   "metadata": {},
   "outputs": [],
   "source": []
  }
 ],
 "metadata": {
  "kernelspec": {
   "display_name": "DataSphere Kernel",
   "language": "python",
   "name": "python3"
  },
  "language_info": {
   "codemirror_mode": {
    "name": "ipython",
    "version": 3
   },
   "file_extension": ".py",
   "mimetype": "text/x-python",
   "name": "python",
   "nbconvert_exporter": "python",
   "pygments_lexer": "ipython3",
   "version": "3.10.12"
  }
 },
 "nbformat": 4,
 "nbformat_minor": 4
}
