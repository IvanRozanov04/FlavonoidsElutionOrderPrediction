{
 "cells": [
  {
   "cell_type": "code",
   "execution_count": 6,
   "metadata": {
    "execution": {
     "iopub.execute_input": "2025-08-16T11:57:43.122480Z",
     "iopub.status.busy": "2025-08-16T11:57:43.121313Z",
     "iopub.status.idle": "2025-08-16T11:57:43.145988Z",
     "shell.execute_reply": "2025-08-16T11:57:43.145084Z",
     "shell.execute_reply.started": "2025-08-16T11:57:43.122428Z"
    },
    "tags": []
   },
   "outputs": [],
   "source": [
    "# Data analysis\n",
    "import pandas as pd\n",
    "import numpy as np \n",
    "import matplotlib.pyplot as plt\n",
    "import scipy as scipy\n",
    "\n",
    "\n",
    "#PyTorch\n",
    "import torch\n",
    "\n",
    "# Custom modules \n",
    "from Modules.LinearModels.CVLinearModels import PairwiseMetrics\n",
    "from Modules.FingerPrints.ParsingFunctions import get_sub_dict\n",
    "from Modules.FingerPrints.GeneratingFunctions import FirstDegreeFP\n",
    "from Modules.FingerPrints.KernelFP import KernelFPGenerator\n",
    "from Modules.NeuralNetworks.MRLoss.RankNETMR import DataloaderRankNet\n",
    "from Modules.NeuralNetworks.MRLoss.CVNNMR import NestedCV,RankNETCV,ILD_cv\n",
    "from Modules.HelperFunctions import *\n",
    "# CONSTANTS\n",
    "from pathlib import Path\n",
    "import csv\n",
    "# Get the directory of the current file\n",
    "current_dir = Path().cwd()\n",
    "METABOBASE_PATH = current_dir.parent / \"data\" / \"IDB.csv\"\n",
    "ARTICLES_PATH = current_dir.parent / \"data\"  / \"ILD.csv\"\n",
    "DEVICE = 'cuda' if torch.cuda.is_available() else 'cpu'\n"
   ]
  },
  {
   "cell_type": "markdown",
   "metadata": {},
   "source": [
    "# Data"
   ]
  },
  {
   "cell_type": "code",
   "execution_count": 7,
   "metadata": {
    "execution": {
     "iopub.execute_input": "2025-08-16T11:57:45.694071Z",
     "iopub.status.busy": "2025-08-16T11:57:45.693047Z",
     "iopub.status.idle": "2025-08-16T11:57:45.742726Z",
     "shell.execute_reply": "2025-08-16T11:57:45.741754Z",
     "shell.execute_reply.started": "2025-08-16T11:57:45.694017Z"
    },
    "tags": []
   },
   "outputs": [],
   "source": [
    "BaseFPGen = KernelFPGenerator(generating_function=FirstDegreeFP,parsing_function=get_sub_dict)\n",
    "FPGen = KernelFPGenerator(generating_function=FirstDegreeFP,parsing_function=get_sub_dict)"
   ]
  },
  {
   "cell_type": "markdown",
   "metadata": {},
   "source": [
    "## IMB"
   ]
  },
  {
   "cell_type": "code",
   "execution_count": 8,
   "metadata": {
    "execution": {
     "iopub.execute_input": "2025-08-16T11:57:46.818759Z",
     "iopub.status.busy": "2025-08-16T11:57:46.817445Z",
     "iopub.status.idle": "2025-08-16T11:57:46.952354Z",
     "shell.execute_reply": "2025-08-16T11:57:46.951256Z",
     "shell.execute_reply.started": "2025-08-16T11:57:46.818707Z"
    },
    "tags": []
   },
   "outputs": [],
   "source": [
    "mb_data = pd.read_csv(METABOBASE_PATH)\n",
    "dois_mb = mb_data['DOI'].to_numpy()\n",
    "X_mb = np.stack(mb_data['SMILES'].apply(FPGen.generate))\n",
    "y_mb = mb_data['RT'].to_numpy()\n",
    "f_mb = mb_data['Formula'].to_numpy()"
   ]
  },
  {
   "cell_type": "code",
   "execution_count": 9,
   "metadata": {
    "execution": {
     "iopub.execute_input": "2025-08-16T11:57:47.482982Z",
     "iopub.status.busy": "2025-08-16T11:57:47.481728Z",
     "iopub.status.idle": "2025-08-16T11:57:47.570692Z",
     "shell.execute_reply": "2025-08-16T11:57:47.569743Z",
     "shell.execute_reply.started": "2025-08-16T11:57:47.482934Z"
    },
    "tags": []
   },
   "outputs": [],
   "source": [
    "X_mb_tensor = torch.tensor(X_mb,dtype=torch.float32,device=DEVICE)\n",
    "y_mb_tensor = torch.tensor(y_mb,dtype=torch.float32,device=DEVICE)"
   ]
  },
  {
   "cell_type": "markdown",
   "metadata": {},
   "source": [
    "## ILD"
   ]
  },
  {
   "cell_type": "code",
   "execution_count": 10,
   "metadata": {
    "execution": {
     "iopub.execute_input": "2025-08-16T11:57:48.948101Z",
     "iopub.status.busy": "2025-08-16T11:57:48.946871Z",
     "iopub.status.idle": "2025-08-16T11:57:49.159611Z",
     "shell.execute_reply": "2025-08-16T11:57:49.158722Z",
     "shell.execute_reply.started": "2025-08-16T11:57:48.948030Z"
    },
    "tags": []
   },
   "outputs": [],
   "source": [
    "a_data = pd.read_csv(ARTICLES_PATH)\n",
    "\n",
    "X_a = np.stack(a_data['SMILES'].apply(FPGen.generate).to_numpy())\n",
    "f_a = a_data['FORMULA'].to_numpy()\n",
    "RTs_a = a_data['RT'].to_numpy()\n",
    "dois_a = a_data['DOI'].to_numpy()\n",
    "y_a = a_data['RT'].to_numpy()"
   ]
  },
  {
   "cell_type": "code",
   "execution_count": 11,
   "metadata": {
    "execution": {
     "iopub.execute_input": "2025-08-16T11:57:49.831664Z",
     "iopub.status.busy": "2025-08-16T11:57:49.830354Z",
     "iopub.status.idle": "2025-08-16T11:57:49.851788Z",
     "shell.execute_reply": "2025-08-16T11:57:49.850872Z",
     "shell.execute_reply.started": "2025-08-16T11:57:49.831614Z"
    },
    "tags": []
   },
   "outputs": [],
   "source": [
    "X_a_tensor = torch.tensor(X_a,dtype=torch.float32,device=DEVICE)\n",
    "y_a_tensor = torch.tensor(y_a,dtype=torch.float32,device=DEVICE)"
   ]
  },
  {
   "cell_type": "markdown",
   "metadata": {},
   "source": [
    "## Stratification"
   ]
  },
  {
   "cell_type": "code",
   "execution_count": 12,
   "metadata": {
    "execution": {
     "iopub.execute_input": "2025-08-16T11:57:52.514390Z",
     "iopub.status.busy": "2025-08-16T11:57:52.513089Z",
     "iopub.status.idle": "2025-08-16T11:57:52.546939Z",
     "shell.execute_reply": "2025-08-16T11:57:52.546058Z",
     "shell.execute_reply.started": "2025-08-16T11:57:52.514350Z"
    },
    "tags": []
   },
   "outputs": [],
   "source": [
    "def get_retention_time_class(retention_time, retention_times=y_mb, num_classes=3):\n",
    "  \"\"\"\n",
    "  Determines the retention time class for a given retention time.\n",
    "\n",
    "  Args:\n",
    "    retention_time: The retention time of the compound.\n",
    "    retention_times: A list or array of all retention times in the dataset.\n",
    "    num_classes: The desired number of retention time classes.\n",
    "\n",
    "  Returns:\n",
    "    The retention time class (an integer between 0 and num_classes-1).\n",
    "  \"\"\"\n",
    "\n",
    "  # Calculate class boundaries\n",
    "  min_rt = np.min(retention_times)\n",
    "  max_rt = np.max(retention_times)\n",
    "  class_boundaries = np.linspace(min_rt, max_rt+0.001, num_classes+1)\n",
    "\n",
    "  # Determine the class index\n",
    "  class_index = np.digitize(retention_time, class_boundaries) - 1\n",
    "  return class_index\n",
    "\n",
    "\n",
    "classes = list(map(get_retention_time_class,y_mb))"
   ]
  },
  {
   "cell_type": "markdown",
   "metadata": {},
   "source": [
    "# RankNET MRLoss"
   ]
  },
  {
   "cell_type": "markdown",
   "metadata": {},
   "source": [
    "## Nested CV"
   ]
  },
  {
   "cell_type": "code",
   "execution_count": 15,
   "metadata": {
    "execution": {
     "iopub.execute_input": "2025-08-16T11:59:55.067515Z",
     "iopub.status.busy": "2025-08-16T11:59:55.066260Z",
     "iopub.status.idle": "2025-08-16T12:05:59.655661Z",
     "shell.execute_reply": "2025-08-16T12:05:59.654706Z",
     "shell.execute_reply.started": "2025-08-16T11:59:55.067464Z"
    },
    "tags": []
   },
   "outputs": [],
   "source": [
    "param_values = {\n",
    "    \"hidden_dim\": [32,64],\n",
    "    \"n_hidden\": [2,4],\n",
    "    \"num_epochs\": [5,10],\n",
    "    \"weight_decay\": [0.01,0.0001,0],\n",
    "    \"batch_size\": [512]\n",
    "} \n",
    "RD_acc_idb = RelDiffErrorAccumulator()\n",
    "hyperparameters_grid = create_hp_grid(param_values)\n",
    "RankNET_nested = np.array(NestedCV(X_mb_tensor,y_mb_tensor,classes,f_mb,hyperparameters_grid,RankNETCV,n_itter_inner=1,n_itter_out=1,accumulator=RD_acc_idb))\n",
    "save_dir = current_dir.parent / \"output\" / 'IDB_results_p1' / 'NNMR.csv'\n",
    "np.savetxt(save_dir,RankNET_nested)"
   ]
  },
  {
   "cell_type": "code",
   "execution_count": null,
   "metadata": {},
   "outputs": [],
   "source": [
    "def write_accumulator_to_csv(accumulator, output_path):\n",
    "    \"\"\"\n",
    "    Writes the contents of a RelDiffErrorAccumulator instance to a CSV file.\n",
    "\n",
    "    Parameters:\n",
    "    - accumulator: an instance of RelDiffErrorAccumulator\n",
    "    - output_path: path to the output CSV file\n",
    "    \"\"\"\n",
    "    with open(output_path, mode='w', newline='') as csvfile:\n",
    "        writer = csv.writer(csvfile)\n",
    "        writer.writerow(['rel_diff', 'error', 'is_isomer'])  # header\n",
    "\n",
    "        for rel_diff, error, is_isomer in zip(\n",
    "            accumulator.rel_diffs,\n",
    "            accumulator.errors,\n",
    "            accumulator.isomeric_flags\n",
    "        ):\n",
    "            writer.writerow([rel_diff, int(error), int(is_isomer)])\n",
    "\n",
    "write_accumulator_to_csv(RD_acc_idb,current_dir.parent/'output'/'Accumulators_IDB'/'NNMR.csv')"
   ]
  },
  {
   "cell_type": "code",
   "execution_count": 16,
   "metadata": {
    "execution": {
     "iopub.execute_input": "2025-08-16T12:05:59.671389Z",
     "iopub.status.busy": "2025-08-16T12:05:59.670212Z",
     "iopub.status.idle": "2025-08-16T12:05:59.689637Z",
     "shell.execute_reply": "2025-08-16T12:05:59.688766Z",
     "shell.execute_reply.started": "2025-08-16T12:05:59.671350Z"
    },
    "tags": []
   },
   "outputs": [
    {
     "name": "stdout",
     "output_type": "stream",
     "text": [
      "Evaluation Results (mean ± std):\n",
      "PER (test)     : 6.5 ± 4.2\n",
      "PER (mixed)    : 5.2 ± 1.7\n",
      "iPER (test)    : 15.0 ± 32.0\n",
      "iPER (mixed)   : 9.9 ± 4.5\n"
     ]
    }
   ],
   "source": [
    "# Unweighted metrics (PER)\n",
    "PER_test_mean, PER_test_std = np.mean(RankNET_nested[:, 0]), np.std(RankNET_nested[:, 0]) / np.sqrt(len(RankNET_nested[:, 0])) * 1.96\n",
    "PER_mixed_mean, PER_mixed_std = np.mean(RankNET_nested[:, 1]), np.std(RankNET_nested[:, 1]) / np.sqrt(len(RankNET_nested[:, 1])) * 1.96\n",
    "\n",
    "# Weighted metrics (iPER)\n",
    "iPER_test_mean, iPER_test_ci = weighted_stats(RankNET_nested[:, 2], RankNET_nested[:, 4])\n",
    "iPER_mixed_mean, iPER_mixed_ci = weighted_stats(RankNET_nested[:, 3], RankNET_nested[:, 5])\n",
    "\n",
    "# Format for printing (in %)\n",
    "results = {\n",
    "    \"PER (test)\": format_result(PER_test_mean * 100, PER_test_std * 100),\n",
    "    \"PER (mixed)\": format_result(PER_mixed_mean * 100, PER_mixed_std * 100),\n",
    "    \"iPER (test)\": format_result(iPER_test_mean * 100, iPER_test_ci * 100),\n",
    "    \"iPER (mixed)\": format_result(iPER_mixed_mean * 100, iPER_mixed_ci * 100)\n",
    "}\n",
    "\n",
    "# Print results\n",
    "print(\"Evaluation Results (mean ± std):\")\n",
    "for name, value in results.items():\n",
    "    print(f\"{name:15s}: {value}\")"
   ]
  },
  {
   "cell_type": "markdown",
   "metadata": {},
   "source": [
    "## Tuning HP on IDB"
   ]
  },
  {
   "cell_type": "code",
   "execution_count": 15,
   "metadata": {
    "execution": {
     "iopub.execute_input": "2025-08-16T11:32:14.334574Z",
     "iopub.status.busy": "2025-08-16T11:32:14.333622Z",
     "iopub.status.idle": "2025-08-16T11:32:14.362743Z",
     "shell.execute_reply": "2025-08-16T11:32:14.361924Z",
     "shell.execute_reply.started": "2025-08-16T11:32:14.334530Z"
    }
   },
   "outputs": [],
   "source": [
    "param_values = {\n",
    "    \"hidden_dim\": [32,64],\n",
    "    \"n_hidden\": [2,4],\n",
    "    \"num_epochs\": [5,10],\n",
    "    \"weight_decay\": [0.01,0.0001,0],\n",
    "    \"batch_size\": [512]\n",
    "} \n",
    "\n",
    "hyperparameters_grid = create_hp_grid(param_values)"
   ]
  },
  {
   "cell_type": "code",
   "execution_count": 16,
   "metadata": {
    "execution": {
     "iopub.execute_input": "2025-08-16T11:32:16.416990Z",
     "iopub.status.busy": "2025-08-16T11:32:16.415703Z",
     "iopub.status.idle": "2025-08-16T11:41:11.385187Z",
     "shell.execute_reply": "2025-08-16T11:41:11.384217Z",
     "shell.execute_reply.started": "2025-08-16T11:32:16.416942Z"
    },
    "tags": []
   },
   "outputs": [],
   "source": [
    "RankNET_final = RankNETCV(X_mb_tensor,y_mb_tensor,classes,hyperparameters_grid,n_itter=5)"
   ]
  },
  {
   "cell_type": "markdown",
   "metadata": {},
   "source": [
    "## Evaluating on ILD"
   ]
  },
  {
   "cell_type": "code",
   "execution_count": 17,
   "metadata": {
    "execution": {
     "iopub.execute_input": "2025-08-16T11:41:11.397730Z",
     "iopub.status.busy": "2025-08-16T11:41:11.397072Z",
     "iopub.status.idle": "2025-08-16T11:41:11.655562Z",
     "shell.execute_reply": "2025-08-16T11:41:11.654652Z",
     "shell.execute_reply.started": "2025-08-16T11:41:11.397696Z"
    }
   },
   "outputs": [
    {
     "data": {
      "text/plain": [
       "<matplotlib.collections.PathCollection at 0x7f0e52c6f790>"
      ]
     },
     "execution_count": 17,
     "metadata": {},
     "output_type": "execute_result"
    },
    {
     "data": {
      "image/png": "[encoded data removed]",
      "text/plain": [
       "<Figure size 640x480 with 1 Axes>"
      ]
     },
     "metadata": {},
     "output_type": "display_data"
    }
   ],
   "source": [
    "preds_articles = RankNET_final(X_a_tensor).cpu().detach().numpy().reshape(-1)\n",
    "selected = dois_a == 'https://doi.org/10.1016/S0021-9673(01)95521-9'\n",
    "plt.scatter(preds_articles[selected],y_a[selected])"
   ]
  },
  {
   "cell_type": "code",
   "execution_count": 19,
   "metadata": {
    "execution": {
     "iopub.execute_input": "2025-08-16T11:41:32.217177Z",
     "iopub.status.busy": "2025-08-16T11:41:32.215754Z",
     "iopub.status.idle": "2025-08-16T11:41:32.418167Z",
     "shell.execute_reply": "2025-08-16T11:41:32.417323Z",
     "shell.execute_reply.started": "2025-08-16T11:41:32.217135Z"
    },
    "tags": []
   },
   "outputs": [
    {
     "name": "stdout",
     "output_type": "stream",
     "text": [
      "Evaluation Results:\n",
      "PER            : 5.1 %\n",
      "iPER           : 13.0 %\n",
      "MAPE_reg       : 12.4 %\n",
      "MedAPE_reg     : 9.4 %\n",
      "MAPE_int       : 8.2 %\n",
      "MedAPE_int     : 7.2 %\n"
     ]
    }
   ],
   "source": [
    "PERs = []\n",
    "n_pairs = []\n",
    "iPERs = []\n",
    "n_ipairs = []\n",
    "\n",
    "n_samples = []\n",
    "MAPE_reg = []\n",
    "MedAPE_reg = []\n",
    "\n",
    "MAPE_int = []\n",
    "MedAPE_int = []\n",
    "\n",
    "pairwise_rows = []\n",
    "regression_rows = []\n",
    "\n",
    "i = 0\n",
    "s = list(set(dois_a))\n",
    "\n",
    "for doi in s:\n",
    "    selected = dois_a == doi\n",
    "    num = sum(selected)\n",
    "    # Compute stats for articles with 5 and more molecules, for more reliable performance estimation\n",
    "    if num > 4:\n",
    "        preds_sel = preds_articles[selected]\n",
    "        y_sel = y_a[selected]\n",
    "        f_sel = f_a[selected]\n",
    "\n",
    "        RegMetrics = compute_safe_linear_regression_metrics(preds_sel, y_sel, n_splits=num)\n",
    "        IntMetrics = compute_safe_interpolation_metrics(preds_sel, y_sel, n_splits=num)\n",
    "        PMetrics = PairwiseMetrics(y_sel, preds_sel, np.array(range(num)), f_sel)\n",
    "\n",
    "        # --- Regression/interpolation metrics ---\n",
    "        n_samples.append(num)\n",
    "        MAPE_reg.append(RegMetrics['MAPE'])\n",
    "        MedAPE_reg.append(RegMetrics['MedAPE'])\n",
    "        MAPE_int.append(IntMetrics['MAPE'])\n",
    "        MedAPE_int.append(IntMetrics['MedAPE'])\n",
    "\n",
    "        regression_rows.append({\n",
    "            'DOI': doi,\n",
    "            'n_samples': num,\n",
    "            'MAPE_reg': RegMetrics['MAPE'],\n",
    "            'MedAPE_reg': RegMetrics['MedAPE'],\n",
    "            'MAPE_int': IntMetrics['MAPE'],\n",
    "            'MedAPE_int': IntMetrics['MedAPE']\n",
    "        })\n",
    "\n",
    "        # --- Pairwise metrics ---\n",
    "        per = PMetrics['PER_test']\n",
    "        ni = PMetrics['ni_test']\n",
    "        n_total_pairs = num * (num - 1) / 2\n",
    "\n",
    "        PERs.append(per)\n",
    "        n_pairs.append(n_total_pairs)\n",
    "\n",
    "        row = {\n",
    "            'DOI': doi,\n",
    "            'n_pairs': n_total_pairs,\n",
    "            'PER': per\n",
    "        }\n",
    "\n",
    "        if ni != 0:\n",
    "            iPERs.append(PMetrics['iPER_test'])\n",
    "            n_ipairs.append(ni)\n",
    "            row['iPER'] = PMetrics['iPER_test']\n",
    "            row['n_ipairs'] = ni\n",
    "        else:\n",
    "            row['iPER'] = ''\n",
    "            row['n_ipairs'] = ''\n",
    "\n",
    "        pairwise_rows.append(row)\n",
    "\n",
    "# Convert to numpy arrays\n",
    "PERs = np.array(PERs)\n",
    "n_pairs = np.array(n_pairs)\n",
    "iPERs = np.array(iPERs)\n",
    "n_ipairs = np.array(n_ipairs)\n",
    "MAPE_reg = np.array(MAPE_reg)\n",
    "MedAPE_reg = np.array(MedAPE_reg)\n",
    "MAPE_int = np.array(MAPE_int)\n",
    "MedAPE_int = np.array(MedAPE_int)\n",
    "n_samples = np.array(n_samples)\n",
    "\n",
    "# Summary statistics\n",
    "PER_str = format_result(*[x * 100 for x in weighted_stats(PERs, n_pairs)])\n",
    "iPER_str = format_result(*[x * 100 for x in weighted_stats(iPERs, n_ipairs)])\n",
    "MAPE_reg_str = format_result(*weighted_stats(MAPE_reg, n_samples))\n",
    "MedAPE_reg_str = format_result(*weighted_stats(MedAPE_reg, n_samples))\n",
    "MAPE_int_str = format_result(*weighted_stats(MAPE_int, n_samples))\n",
    "MedAPE_int_str = format_result(*weighted_stats(MedAPE_int, n_samples))\n",
    "\n",
    "results = {\n",
    "    'PER': PER_str,\n",
    "    'iPER': iPER_str,\n",
    "    'MAPE_reg': MAPE_reg_str,\n",
    "    'MedAPE_reg': MedAPE_reg_str,\n",
    "    'MAPE_int': MAPE_int_str,\n",
    "    'MedAPE_int': MedAPE_int_str\n",
    "}\n",
    "\n",
    "print(\"Evaluation Results:\")\n",
    "for name, value in results.items():\n",
    "    print(f\"{name:15s}: {value.split('±')[0]}%\")\n",
    "\n",
    "# --- Write to CSV files ---\n",
    "with open(current_dir.parent / 'output' / 'ILD_results_p1' / 'NNMRPairM.csv', 'w', newline='') as f:\n",
    "    writer = csv.DictWriter(f, fieldnames=['DOI', 'n_pairs', 'PER', 'n_ipairs', 'iPER'])\n",
    "    writer.writeheader()\n",
    "    writer.writerows(pairwise_rows)\n",
    "\n",
    "with open(current_dir.parent / 'output' / 'ILD_results_p1' / 'NNMRRegM.csv', 'w', newline='') as f:\n",
    "    writer = csv.DictWriter(f, fieldnames=['DOI', 'n_samples', 'MAPE_reg', 'MedAPE_reg', 'MAPE_int', 'MedAPE_int'])\n",
    "    writer.writeheader()\n",
    "    writer.writerows(regression_rows)\n"
   ]
  },
  {
   "cell_type": "markdown",
   "metadata": {},
   "source": [
    "# Training on ILD"
   ]
  },
  {
   "cell_type": "code",
   "execution_count": 13,
   "metadata": {
    "execution": {
     "iopub.execute_input": "2025-08-16T11:58:11.271813Z",
     "iopub.status.busy": "2025-08-16T11:58:11.270644Z",
     "iopub.status.idle": "2025-08-16T11:58:11.311272Z",
     "shell.execute_reply": "2025-08-16T11:58:11.310394Z",
     "shell.execute_reply.started": "2025-08-16T11:58:11.271746Z"
    },
    "tags": []
   },
   "outputs": [],
   "source": [
    "RD_acc = RelDiffErrorAccumulator()"
   ]
  },
  {
   "cell_type": "code",
   "execution_count": 14,
   "metadata": {
    "execution": {
     "iopub.execute_input": "2025-08-16T11:58:18.492769Z",
     "iopub.status.busy": "2025-08-16T11:58:18.491517Z",
     "iopub.status.idle": "2025-08-16T11:59:36.307356Z",
     "shell.execute_reply": "2025-08-16T11:59:36.306330Z",
     "shell.execute_reply.started": "2025-08-16T11:58:18.492729Z"
    },
    "tags": []
   },
   "outputs": [],
   "source": [
    "param_values = {\n",
    "    \"hidden_dim\": [32,64],\n",
    "    \"n_hidden\": [2,4],\n",
    "    \"num_epochs\": [5,10],\n",
    "    \"weight_decay\": [0.01,0.0001,0],\n",
    "    \"batch_size\": [512]\n",
    "}\n",
    "hyperparameters_grid = create_hp_grid(param_values)\n",
    "train_loader = DataloaderRankNet(X_a_tensor,y_a_tensor,dois_a,batch_size=512)\n",
    "ild_results,ild_reg_metrics,ild_int_metrics = ILD_cv(train_loader,X_mb_tensor,y_mb_tensor,classes,f_mb,hyperparameters_grid,n_itter=1,n_splits=5,accumulator=RD_acc)\n",
    "ild_results,ild_reg_metrics,ild_int_metrics = np.array(ild_results),np.array(ild_reg_metrics), np.array(ild_int_metrics)\n",
    "np.savetxt(current_dir.parent/'output'/'IDB_results_p2'/'NNMRR2.csv',ild_results)"
   ]
  },
  {
   "cell_type": "code",
   "execution_count": 22,
   "metadata": {
    "execution": {
     "iopub.execute_input": "2025-08-16T11:48:17.702793Z",
     "iopub.status.busy": "2025-08-16T11:48:17.702142Z",
     "iopub.status.idle": "2025-08-16T11:48:17.870256Z",
     "shell.execute_reply": "2025-08-16T11:48:17.869446Z",
     "shell.execute_reply.started": "2025-08-16T11:48:17.702754Z"
    }
   },
   "outputs": [],
   "source": [
    "def write_accumulator_to_csv(accumulator, output_path):\n",
    "    \"\"\"\n",
    "    Writes the contents of a RelDiffErrorAccumulator instance to a CSV file.\n",
    "\n",
    "    Parameters:\n",
    "    - accumulator: an instance of RelDiffErrorAccumulator\n",
    "    - output_path: path to the output CSV file\n",
    "    \"\"\"\n",
    "    with open(output_path, mode='w', newline='') as csvfile:\n",
    "        writer = csv.writer(csvfile)\n",
    "        writer.writerow(['rel_diff', 'error', 'is_isomer'])  # header\n",
    "\n",
    "        for rel_diff, error, is_isomer in zip(\n",
    "            accumulator.rel_diffs,\n",
    "            accumulator.errors,\n",
    "            accumulator.isomeric_flags\n",
    "        ):\n",
    "            writer.writerow([rel_diff, int(error), int(is_isomer)])\n",
    "\n",
    "write_accumulator_to_csv(RD_acc,current_dir.parent/'output'/'Accumulators'/'NNMRR2.csv')"
   ]
  },
  {
   "cell_type": "code",
   "execution_count": 26,
   "metadata": {
    "execution": {
     "iopub.execute_input": "2025-08-16T11:49:46.593326Z",
     "iopub.status.busy": "2025-08-16T11:49:46.592364Z",
     "iopub.status.idle": "2025-08-16T11:49:47.052164Z",
     "shell.execute_reply": "2025-08-16T11:49:47.051296Z",
     "shell.execute_reply.started": "2025-08-16T11:49:46.593293Z"
    },
    "tags": []
   },
   "outputs": [
    {
     "data": {
      "image/png": "[encoded data removed]",
      "text/plain": [
       "<Figure size 1000x600 with 2 Axes>"
      ]
     },
     "metadata": {},
     "output_type": "display_data"
    }
   ],
   "source": [
    "plot_rel_diff_error_distribution(RD_acc,isomeric_only=True,bin_edges=np.linspace(0, 2.0, 21))"
   ]
  },
  {
   "cell_type": "code",
   "execution_count": 17,
   "metadata": {
    "execution": {
     "iopub.execute_input": "2025-08-16T12:06:32.983697Z",
     "iopub.status.busy": "2025-08-16T12:06:32.982690Z",
     "iopub.status.idle": "2025-08-16T12:06:33.018923Z",
     "shell.execute_reply": "2025-08-16T12:06:33.018032Z",
     "shell.execute_reply.started": "2025-08-16T12:06:32.983656Z"
    },
    "tags": []
   },
   "outputs": [
    {
     "name": "stdout",
     "output_type": "stream",
     "text": [
      "Evaluation Results (mean ± 95% CI):\n",
      "PER (test)     : 10.57 ± 0.78\n",
      "PER (mixed)    : 10.44 ± 0.29\n",
      "iPER (test)    : 18.8 ± 7.4\n",
      "iPER (mixed)   : 17.8 ± 5.4\n"
     ]
    }
   ],
   "source": [
    "# Unweighted metrics (PER)\n",
    "PER_test_mean, PER_test_std = np.mean(ild_results[:, 0]), np.std(ild_results[:, 0])# / np.sqrt(len(ild_results[:, 0])) * 1.96\n",
    "PER_mixed_mean, PER_mixed_std = np.mean(ild_results[:, 1]), np.std(ild_results[:, 1])# / np.sqrt(len(ild_results[:, 1])) * 1.96\n",
    "\n",
    "# Weighted metrics (iPER)\n",
    "iPER_test_mean, iPER_test_ci = weighted_stats(ild_results[:, 2], ild_results[:, 4])\n",
    "iPER_mixed_mean, iPER_mixed_ci = weighted_stats(ild_results[:, 3], ild_results[:, 5])\n",
    "\n",
    "# Format for printing (in %)\n",
    "results = {\n",
    "    \"PER (test)\": format_result(PER_test_mean * 100, PER_test_std * 100),\n",
    "    \"PER (mixed)\": format_result(PER_mixed_mean * 100, PER_mixed_std * 100),\n",
    "    \"iPER (test)\": format_result(iPER_test_mean * 100, iPER_test_ci * 100),\n",
    "    \"iPER (mixed)\": format_result(iPER_mixed_mean * 100, iPER_mixed_ci * 100)\n",
    "}\n",
    "\n",
    "# Print results\n",
    "print(\"Evaluation Results (mean ± std):\")\n",
    "for name, value in results.items():\n",
    "    print(f\"{name:15s}: {value}\")"
   ]
  },
  {
   "cell_type": "code",
   "execution_count": 18,
   "metadata": {
    "execution": {
     "iopub.execute_input": "2025-08-16T12:06:36.047940Z",
     "iopub.status.busy": "2025-08-16T12:06:36.046670Z",
     "iopub.status.idle": "2025-08-16T12:06:36.085802Z",
     "shell.execute_reply": "2025-08-16T12:06:36.084840Z",
     "shell.execute_reply.started": "2025-08-16T12:06:36.047887Z"
    },
    "tags": []
   },
   "outputs": [
    {
     "name": "stdout",
     "output_type": "stream",
     "text": [
      "Evaluation Results (mean ± std):\n",
      "MAPE           : 9.89 ± 0.96\n",
      "MedAPE         : 7.4 ± 1.3\n"
     ]
    }
   ],
   "source": [
    "# Unweighted metrics (PER)\n",
    "MAPE, MAPE_std = np.mean(ild_reg_metrics[:, 0]), np.std(ild_reg_metrics[:, 0]) \n",
    "MedAPE, MedAPE_std = np.mean(ild_reg_metrics[:, 1]), np.std(ild_reg_metrics[:, 1])\n",
    "\n",
    "# Format for printing (in %)\n",
    "results = {\n",
    "    \"MAPE\": format_result(MAPE, MAPE_std),\n",
    "    \"MedAPE\": format_result(MedAPE, MedAPE_std),\n",
    "}\n",
    "\n",
    "# Print results\n",
    "print(\"Evaluation Results (mean ± std):\")\n",
    "for name, value in results.items():\n",
    "    print(f\"{name:15s}: {value}\")"
   ]
  },
  {
   "cell_type": "code",
   "execution_count": 19,
   "metadata": {
    "execution": {
     "iopub.execute_input": "2025-08-16T12:06:38.490492Z",
     "iopub.status.busy": "2025-08-16T12:06:38.489191Z",
     "iopub.status.idle": "2025-08-16T12:06:38.505393Z",
     "shell.execute_reply": "2025-08-16T12:06:38.504521Z",
     "shell.execute_reply.started": "2025-08-16T12:06:38.490450Z"
    },
    "tags": []
   },
   "outputs": [
    {
     "name": "stdout",
     "output_type": "stream",
     "text": [
      "Evaluation Results (mean ± std):\n",
      "MAPE           : 10.1 ± 1.4\n",
      "MedAPE         : 8.2 ± 1.3\n"
     ]
    }
   ],
   "source": [
    "# Unweighted metrics (PER)\n",
    "MAPE, MAPE_std = np.mean(ild_int_metrics[:, 0]), np.std(ild_int_metrics[:, 0],ddof=1)\n",
    "MedAPE, MedAPE_std = np.mean(ild_int_metrics[:, 1]), np.std(ild_int_metrics[:, 1],ddof=1)\n",
    "\n",
    "# Format for printing (in %)\n",
    "results = {\n",
    "    \"MAPE\": format_result(MAPE, MAPE_std),\n",
    "    \"MedAPE\": format_result(MedAPE, MedAPE_std),\n",
    "}\n",
    "\n",
    "# Print results\n",
    "print(\"Evaluation Results (mean ± std):\")\n",
    "for name, value in results.items():\n",
    "    print(f\"{name:15s}: {value}\")"
   ]
  },
  {
   "cell_type": "code",
   "execution_count": null,
   "metadata": {},
   "outputs": [],
   "source": []
  }
 ],
 "metadata": {
  "kernelspec": {
   "display_name": "DataSphere Kernel",
   "language": "python",
   "name": "python3"
  },
  "language_info": {
   "codemirror_mode": {
    "name": "ipython",
    "version": 3
   },
   "file_extension": ".py",
   "mimetype": "text/x-python",
   "name": "python",
   "nbconvert_exporter": "python",
   "pygments_lexer": "ipython3",
   "version": "3.10.12"
  }
 },
 "nbformat": 4,
 "nbformat_minor": 4
}
