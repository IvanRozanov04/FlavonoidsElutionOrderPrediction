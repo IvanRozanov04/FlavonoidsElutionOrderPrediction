{
 "cells": [
  {
   "cell_type": "code",
   "execution_count": 1,
   "metadata": {},
   "outputs": [],
   "source": [
    "# Data analysis\n",
    "import pandas as pd\n",
    "import numpy as np \n",
    "import matplotlib.pyplot as plt\n",
    "import scipy as scipy\n",
    "\n",
    "# RDKit\n",
    "from rdkit import Chem\n",
    "\n",
    "# Custom modules \n",
    "from Modules.FingerPrints.ParsingFunctions import get_sub_dict\n",
    "from Modules.FingerPrints.GeneratingFunctions import FirstDegreeFP,SecondDegreeFP\n",
    "from Modules.FingerPrints.KernelFP import KernelFPGenerator\n",
    "from Modules.LinearModels.CVLinearModels import NestedCV, CV_LinReg, PairwiseMetrics\n",
    "from Modules.HelperFunctions import * \n",
    "# CONSTANTS\n",
    "from pathlib import Path\n",
    "\n",
    "# Get the directory of the current file\n",
    "current_dir = Path().cwd()\n",
    "METABOBASE_PATH = current_dir.parent / \"data\" / \"IDB.csv\"\n",
    "ARTICLES_PATH = current_dir.parent / \"data\"  / \"ILD.csv\"\n"
   ]
  },
  {
   "cell_type": "markdown",
   "metadata": {},
   "source": [
    "# Data"
   ]
  },
  {
   "cell_type": "code",
   "execution_count": null,
   "metadata": {},
   "outputs": [],
   "source": [
    "FPGen = KernelFPGenerator(generating_function=FirstDegreeFP,parsing_function=get_sub_dict)"
   ]
  },
  {
   "cell_type": "markdown",
   "metadata": {},
   "source": [
    "## IMD"
   ]
  },
  {
   "cell_type": "code",
   "execution_count": null,
   "metadata": {},
   "outputs": [],
   "source": [
    "mb_data = pd.read_csv(METABOBASE_PATH)\n",
    "dois_mb = mb_data['DOI'].to_numpy()\n",
    "mols = mb_data['SMILES'].apply(Chem.MolFromSmiles)\n",
    "X_mb = np.stack(mb_data['SMILES'].apply(FPGen.generate))\n",
    "y_mb = mb_data['RT'].to_numpy()\n",
    "f_mb = mb_data['Formula'].to_numpy()"
   ]
  },
  {
   "cell_type": "markdown",
   "metadata": {},
   "source": [
    "## ILD"
   ]
  },
  {
   "cell_type": "code",
   "execution_count": null,
   "metadata": {},
   "outputs": [],
   "source": [
    "a_data = pd.read_csv(ARTICLES_PATH)\n",
    "\n",
    "mols = a_data['SMILES'].apply(Chem.MolFromSmiles)\n",
    "X_a = np.stack(a_data['SMILES'].apply(FPGen.generate).to_numpy())\n",
    "f_a = a_data['FORMULA'].to_numpy()\n",
    "RTs_a = a_data['RT'].to_numpy()\n",
    "dois_a = a_data['DOI'].to_numpy()\n",
    "y_a = a_data['RT'].to_numpy()"
   ]
  },
  {
   "cell_type": "markdown",
   "metadata": {},
   "source": [
    "## Stratification"
   ]
  },
  {
   "cell_type": "code",
   "execution_count": null,
   "metadata": {},
   "outputs": [],
   "source": [
    "def get_retention_time_class(retention_time, retention_times=y_mb, num_classes=3):\n",
    "  \"\"\"\n",
    "  Determines the retention time class for a given retention time.\n",
    "\n",
    "  Args:\n",
    "    retention_time: The retention time of the compound.\n",
    "    retention_times: A list or array of all retention times in the dataset.\n",
    "    num_classes: The desired number of retention time classes.\n",
    "\n",
    "  Returns:\n",
    "    The retention time class (an integer between 0 and num_classes-1).\n",
    "  \"\"\"\n",
    "\n",
    "  # Calculate class boundaries\n",
    "  min_rt = np.min(retention_times)\n",
    "  max_rt = np.max(retention_times)\n",
    "  class_boundaries = np.linspace(min_rt, max_rt+0.001, num_classes+1)\n",
    "\n",
    "  # Determine the class index\n",
    "  class_index = np.digitize(retention_time, class_boundaries) - 1\n",
    "  return class_index\n",
    "\n",
    "\n",
    "classes = list(map(get_retention_time_class,y_mb))"
   ]
  },
  {
   "cell_type": "markdown",
   "metadata": {},
   "source": [
    "# Linear Regression"
   ]
  },
  {
   "cell_type": "markdown",
   "metadata": {},
   "source": [
    "## Nested CV "
   ]
  },
  {
   "cell_type": "code",
   "execution_count": null,
   "metadata": {},
   "outputs": [],
   "source": [
    "Cs = 10.0**np.linspace(-4,10,29)\n",
    "LinReg_nested = np.array(NestedCV(X_mb,y_mb,classes,f_mb,Cs,inner_cv_func=CV_LinReg,n_itter_inner=5,n_itter_out=5))\n",
    "save_dir = current_dir.parent / \"output\" / 'IDB_results_p1' / 'LinReg.csv'\n",
    "np.savetxt(save_dir,LinReg_nested)"
   ]
  },
  {
   "cell_type": "code",
   "execution_count": null,
   "metadata": {},
   "outputs": [
    {
     "name": "stdout",
     "output_type": "stream",
     "text": [
      "Evaluation Results (mean ± 95% CI):\n",
      "PER (test)     : 7.9 ± 2.9\n",
      "PER (mixed)    : 7.1 ± 1.2\n",
      "iPER (test)    : 21.0 ± 25.0\n",
      "iPER (mixed)   : 16.7 ± 5.8\n"
     ]
    }
   ],
   "source": [
    "# Unweighted metrics (PER)\n",
    "PER_test_mean, PER_test_std = np.mean(LinReg_nested[:, 0]), np.std(LinReg_nested[:, 0],ddof=1)\n",
    "PER_mixed_mean, PER_mixed_std = np.mean(LinReg_nested[:, 1]), np.std(LinReg_nested[:, 1],ddof=1)\n",
    "\n",
    "# Weighted metrics (iPER)\n",
    "iPER_test_mean, iPER_test_ci = weighted_stats(LinReg_nested[:, 2], LinReg_nested[:, 4])\n",
    "iPER_mixed_mean, iPER_mixed_ci = weighted_stats(LinReg_nested[:, 3], LinReg_nested[:, 5])\n",
    "\n",
    "# Format for printing (in %)\n",
    "results = {\n",
    "    \"PER (test)\": format_result(PER_test_mean * 100, PER_test_std * 100),\n",
    "    \"PER (mixed)\": format_result(PER_mixed_mean * 100, PER_mixed_std * 100),\n",
    "    \"iPER (test)\": format_result(iPER_test_mean * 100, iPER_test_ci * 100),\n",
    "    \"iPER (mixed)\": format_result(iPER_mixed_mean * 100, iPER_mixed_ci * 100)\n",
    "}\n",
    "\n",
    "# Print results\n",
    "print(\"Evaluation Results (mean ± 95% CI):\")\n",
    "for name, value in results.items():\n",
    "    print(f\"{name:15s}: {value}\")"
   ]
  },
  {
   "cell_type": "markdown",
   "metadata": {},
   "source": [
    "## Tuning HP on IMD"
   ]
  },
  {
   "cell_type": "code",
   "execution_count": null,
   "metadata": {},
   "outputs": [],
   "source": [
    "Cs = 10.0**np.linspace(-4,10,29)\n",
    "LinRegFinal = CV_LinReg(X_mb,y_mb,classes,Cs)"
   ]
  },
  {
   "cell_type": "markdown",
   "metadata": {},
   "source": [
    "## Evaluating on ILD"
   ]
  },
  {
   "cell_type": "code",
   "execution_count": null,
   "metadata": {},
   "outputs": [
    {
     "data": {
      "text/plain": [
       "<matplotlib.collections.PathCollection at 0x1659311c0>"
      ]
     },
     "execution_count": 42,
     "metadata": {},
     "output_type": "execute_result"
    },
    {
     "data": {
      "image/png": "[encoded data removed]",
      "text/plain": [
       "<Figure size 640x480 with 1 Axes>"
      ]
     },
     "metadata": {},
     "output_type": "display_data"
    }
   ],
   "source": [
    "preds_articles = LinRegFinal.predict(X_a).reshape(-1)\n",
    "selected = dois_a == 'https://doi.org/10.1016/s0031-9422(00)81116-4'\n",
    "plt.scatter(preds_articles[selected],y_a[selected])"
   ]
  },
  {
   "cell_type": "code",
   "execution_count": null,
   "metadata": {},
   "outputs": [
    {
     "name": "stdout",
     "output_type": "stream",
     "text": [
      "Evaluation Results:\n",
      "PER            : 7.1 %\n",
      "iPER           : 30.0 %\n",
      "MAPE_reg       : 14.0 %\n",
      "MedAPE_reg     : 11.0 %\n",
      "MAPE_int       : 9.2 %\n",
      "MedAPE_int     : 7.9 %\n"
     ]
    },
    {
     "name": "stderr",
     "output_type": "stream",
     "text": [
      "/Users/ivanrozanov/Desktop/FlavonoidsElutionOrder/Code/code/Modules/LinearModels/CVLinearModels.py:51: RuntimeWarning: invalid value encountered in scalar divide\n",
      "  results[\"PER_train\"] = errors[train_mask & valid_mask].sum() / (train_mask & valid_mask).sum()\n",
      "/Users/ivanrozanov/Desktop/FlavonoidsElutionOrder/Code/code/Modules/LinearModels/CVLinearModels.py:56: RuntimeWarning: invalid value encountered in scalar divide\n",
      "  results[\"iPER_train\"] = errors[train_mask & iso_mask & valid_mask].sum() / (train_mask & iso_mask & valid_mask).sum()\n",
      "/Users/ivanrozanov/Desktop/FlavonoidsElutionOrder/Code/code/Modules/LinearModels/CVLinearModels.py:51: RuntimeWarning: invalid value encountered in scalar divide\n",
      "  results[\"PER_train\"] = errors[train_mask & valid_mask].sum() / (train_mask & valid_mask).sum()\n",
      "/Users/ivanrozanov/Desktop/FlavonoidsElutionOrder/Code/code/Modules/LinearModels/CVLinearModels.py:56: RuntimeWarning: invalid value encountered in scalar divide\n",
      "  results[\"iPER_train\"] = errors[train_mask & iso_mask & valid_mask].sum() / (train_mask & iso_mask & valid_mask).sum()\n",
      "/Users/ivanrozanov/Desktop/FlavonoidsElutionOrder/Code/code/Modules/LinearModels/CVLinearModels.py:51: RuntimeWarning: invalid value encountered in scalar divide\n",
      "  results[\"PER_train\"] = errors[train_mask & valid_mask].sum() / (train_mask & valid_mask).sum()\n",
      "/Users/ivanrozanov/Desktop/FlavonoidsElutionOrder/Code/code/Modules/LinearModels/CVLinearModels.py:56: RuntimeWarning: invalid value encountered in scalar divide\n",
      "  results[\"iPER_train\"] = errors[train_mask & iso_mask & valid_mask].sum() / (train_mask & iso_mask & valid_mask).sum()\n",
      "/Users/ivanrozanov/Desktop/FlavonoidsElutionOrder/Code/code/Modules/LinearModels/CVLinearModels.py:51: RuntimeWarning: invalid value encountered in scalar divide\n",
      "  results[\"PER_train\"] = errors[train_mask & valid_mask].sum() / (train_mask & valid_mask).sum()\n",
      "/Users/ivanrozanov/Desktop/FlavonoidsElutionOrder/Code/code/Modules/LinearModels/CVLinearModels.py:56: RuntimeWarning: invalid value encountered in scalar divide\n",
      "  results[\"iPER_train\"] = errors[train_mask & iso_mask & valid_mask].sum() / (train_mask & iso_mask & valid_mask).sum()\n",
      "/Users/ivanrozanov/Desktop/FlavonoidsElutionOrder/Code/code/Modules/LinearModels/CVLinearModels.py:51: RuntimeWarning: invalid value encountered in scalar divide\n",
      "  results[\"PER_train\"] = errors[train_mask & valid_mask].sum() / (train_mask & valid_mask).sum()\n",
      "/Users/ivanrozanov/Desktop/FlavonoidsElutionOrder/Code/code/Modules/LinearModels/CVLinearModels.py:56: RuntimeWarning: invalid value encountered in scalar divide\n",
      "  results[\"iPER_train\"] = errors[train_mask & iso_mask & valid_mask].sum() / (train_mask & iso_mask & valid_mask).sum()\n",
      "/Users/ivanrozanov/Desktop/FlavonoidsElutionOrder/Code/code/Modules/LinearModels/CVLinearModels.py:51: RuntimeWarning: invalid value encountered in scalar divide\n",
      "  results[\"PER_train\"] = errors[train_mask & valid_mask].sum() / (train_mask & valid_mask).sum()\n",
      "/Users/ivanrozanov/Desktop/FlavonoidsElutionOrder/Code/code/Modules/LinearModels/CVLinearModels.py:56: RuntimeWarning: invalid value encountered in scalar divide\n",
      "  results[\"iPER_train\"] = errors[train_mask & iso_mask & valid_mask].sum() / (train_mask & iso_mask & valid_mask).sum()\n",
      "/Users/ivanrozanov/Desktop/FlavonoidsElutionOrder/Code/code/Modules/LinearModels/CVLinearModels.py:51: RuntimeWarning: invalid value encountered in scalar divide\n",
      "  results[\"PER_train\"] = errors[train_mask & valid_mask].sum() / (train_mask & valid_mask).sum()\n",
      "/Users/ivanrozanov/Desktop/FlavonoidsElutionOrder/Code/code/Modules/LinearModels/CVLinearModels.py:56: RuntimeWarning: invalid value encountered in scalar divide\n",
      "  results[\"iPER_train\"] = errors[train_mask & iso_mask & valid_mask].sum() / (train_mask & iso_mask & valid_mask).sum()\n",
      "/Users/ivanrozanov/Desktop/FlavonoidsElutionOrder/Code/code/Modules/LinearModels/CVLinearModels.py:51: RuntimeWarning: invalid value encountered in scalar divide\n",
      "  results[\"PER_train\"] = errors[train_mask & valid_mask].sum() / (train_mask & valid_mask).sum()\n",
      "/Users/ivanrozanov/Desktop/FlavonoidsElutionOrder/Code/code/Modules/LinearModels/CVLinearModels.py:56: RuntimeWarning: invalid value encountered in scalar divide\n",
      "  results[\"iPER_train\"] = errors[train_mask & iso_mask & valid_mask].sum() / (train_mask & iso_mask & valid_mask).sum()\n",
      "/Users/ivanrozanov/Desktop/FlavonoidsElutionOrder/Code/code/Modules/LinearModels/CVLinearModels.py:51: RuntimeWarning: invalid value encountered in scalar divide\n",
      "  results[\"PER_train\"] = errors[train_mask & valid_mask].sum() / (train_mask & valid_mask).sum()\n",
      "/Users/ivanrozanov/Desktop/FlavonoidsElutionOrder/Code/code/Modules/LinearModels/CVLinearModels.py:56: RuntimeWarning: invalid value encountered in scalar divide\n",
      "  results[\"iPER_train\"] = errors[train_mask & iso_mask & valid_mask].sum() / (train_mask & iso_mask & valid_mask).sum()\n",
      "/Users/ivanrozanov/Desktop/FlavonoidsElutionOrder/Code/code/Modules/LinearModels/CVLinearModels.py:51: RuntimeWarning: invalid value encountered in scalar divide\n",
      "  results[\"PER_train\"] = errors[train_mask & valid_mask].sum() / (train_mask & valid_mask).sum()\n",
      "/Users/ivanrozanov/Desktop/FlavonoidsElutionOrder/Code/code/Modules/LinearModels/CVLinearModels.py:56: RuntimeWarning: invalid value encountered in scalar divide\n",
      "  results[\"iPER_train\"] = errors[train_mask & iso_mask & valid_mask].sum() / (train_mask & iso_mask & valid_mask).sum()\n",
      "/Users/ivanrozanov/Desktop/FlavonoidsElutionOrder/Code/code/Modules/LinearModels/CVLinearModels.py:51: RuntimeWarning: invalid value encountered in scalar divide\n",
      "  results[\"PER_train\"] = errors[train_mask & valid_mask].sum() / (train_mask & valid_mask).sum()\n",
      "/Users/ivanrozanov/Desktop/FlavonoidsElutionOrder/Code/code/Modules/LinearModels/CVLinearModels.py:56: RuntimeWarning: invalid value encountered in scalar divide\n",
      "  results[\"iPER_train\"] = errors[train_mask & iso_mask & valid_mask].sum() / (train_mask & iso_mask & valid_mask).sum()\n",
      "/Users/ivanrozanov/Desktop/FlavonoidsElutionOrder/Code/code/Modules/LinearModels/CVLinearModels.py:51: RuntimeWarning: invalid value encountered in scalar divide\n",
      "  results[\"PER_train\"] = errors[train_mask & valid_mask].sum() / (train_mask & valid_mask).sum()\n",
      "/Users/ivanrozanov/Desktop/FlavonoidsElutionOrder/Code/code/Modules/LinearModels/CVLinearModels.py:56: RuntimeWarning: invalid value encountered in scalar divide\n",
      "  results[\"iPER_train\"] = errors[train_mask & iso_mask & valid_mask].sum() / (train_mask & iso_mask & valid_mask).sum()\n",
      "/Users/ivanrozanov/Desktop/FlavonoidsElutionOrder/Code/code/Modules/LinearModels/CVLinearModels.py:51: RuntimeWarning: invalid value encountered in scalar divide\n",
      "  results[\"PER_train\"] = errors[train_mask & valid_mask].sum() / (train_mask & valid_mask).sum()\n",
      "/Users/ivanrozanov/Desktop/FlavonoidsElutionOrder/Code/code/Modules/LinearModels/CVLinearModels.py:55: RuntimeWarning: invalid value encountered in scalar divide\n",
      "  results[\"iPER_test\"] = errors[test_mask & iso_mask & valid_mask].sum() / (test_mask & iso_mask & valid_mask).sum()\n",
      "/Users/ivanrozanov/Desktop/FlavonoidsElutionOrder/Code/code/Modules/LinearModels/CVLinearModels.py:56: RuntimeWarning: invalid value encountered in scalar divide\n",
      "  results[\"iPER_train\"] = errors[train_mask & iso_mask & valid_mask].sum() / (train_mask & iso_mask & valid_mask).sum()\n",
      "/Users/ivanrozanov/Desktop/FlavonoidsElutionOrder/Code/code/Modules/LinearModels/CVLinearModels.py:57: RuntimeWarning: invalid value encountered in scalar divide\n",
      "  results[\"iPER_mixed\"] = errors[mixed_mask & iso_mask & valid_mask].sum() / (mixed_mask & iso_mask & valid_mask).sum()\n",
      "/Users/ivanrozanov/Desktop/FlavonoidsElutionOrder/Code/code/Modules/LinearModels/CVLinearModels.py:51: RuntimeWarning: invalid value encountered in scalar divide\n",
      "  results[\"PER_train\"] = errors[train_mask & valid_mask].sum() / (train_mask & valid_mask).sum()\n",
      "/Users/ivanrozanov/Desktop/FlavonoidsElutionOrder/Code/code/Modules/LinearModels/CVLinearModels.py:56: RuntimeWarning: invalid value encountered in scalar divide\n",
      "  results[\"iPER_train\"] = errors[train_mask & iso_mask & valid_mask].sum() / (train_mask & iso_mask & valid_mask).sum()\n"
     ]
    }
   ],
   "source": [
    "import csv\n",
    "\n",
    "PERs = []\n",
    "n_pairs = []\n",
    "iPERs = []\n",
    "n_ipairs = []\n",
    "\n",
    "n_samples = []\n",
    "MAPE_reg = []\n",
    "MedAPE_reg = []\n",
    "\n",
    "MAPE_int = []\n",
    "MedAPE_int = []\n",
    "\n",
    "pairwise_rows = []\n",
    "regression_rows = []\n",
    "\n",
    "i = 0\n",
    "s = list(set(dois_a))\n",
    "\n",
    "for doi in s:\n",
    "    selected = dois_a == doi\n",
    "    num = sum(selected)\n",
    "\n",
    "    if num > 4:\n",
    "        preds_sel = preds_articles[selected]\n",
    "        y_sel = y_a[selected]\n",
    "        f_sel = f_a[selected]\n",
    "\n",
    "        RegMetrics = compute_safe_linear_regression_metrics(preds_sel, y_sel, n_splits=num)\n",
    "        IntMetrics = compute_safe_interpolation_metrics(preds_sel, y_sel, n_splits=num)\n",
    "        PMetrics = PairwiseMetrics(y_sel, preds_sel, np.array(range(num)), f_sel)\n",
    "\n",
    "        # --- Regression/interpolation metrics ---\n",
    "        n_samples.append(num)\n",
    "        MAPE_reg.append(RegMetrics['MAPE'])\n",
    "        MedAPE_reg.append(RegMetrics['MedAPE'])\n",
    "        MAPE_int.append(IntMetrics['MAPE'])\n",
    "        MedAPE_int.append(IntMetrics['MedAPE'])\n",
    "\n",
    "        regression_rows.append({\n",
    "            'DOI': doi,\n",
    "            'n_samples': num,\n",
    "            'MAPE_reg': RegMetrics['MAPE'],\n",
    "            'MedAPE_reg': RegMetrics['MedAPE'],\n",
    "            'MAPE_int': IntMetrics['MAPE'],\n",
    "            'MedAPE_int': IntMetrics['MedAPE']\n",
    "        })\n",
    "\n",
    "        # --- Pairwise metrics ---\n",
    "        per = PMetrics['PER_test']\n",
    "        ni = PMetrics['ni_test']\n",
    "        n_total_pairs = num * (num - 1) / 2\n",
    "\n",
    "        PERs.append(per)\n",
    "        n_pairs.append(n_total_pairs)\n",
    "\n",
    "        row = {\n",
    "            'DOI': doi,\n",
    "            'n_pairs': n_total_pairs,\n",
    "            'PER': per\n",
    "        }\n",
    "\n",
    "        if ni != 0:\n",
    "            iPERs.append(PMetrics['iPER_test'])\n",
    "            n_ipairs.append(ni)\n",
    "            row['iPER'] = PMetrics['iPER_test']\n",
    "            row['n_ipairs'] = ni\n",
    "        else:\n",
    "            row['iPER'] = ''\n",
    "            row['n_ipairs'] = ''\n",
    "\n",
    "        pairwise_rows.append(row)\n",
    "\n",
    "# Convert to numpy arrays\n",
    "PERs = np.array(PERs)\n",
    "n_pairs = np.array(n_pairs)\n",
    "iPERs = np.array(iPERs)\n",
    "n_ipairs = np.array(n_ipairs)\n",
    "MAPE_reg = np.array(MAPE_reg)\n",
    "MedAPE_reg = np.array(MedAPE_reg)\n",
    "MAPE_int = np.array(MAPE_int)\n",
    "MedAPE_int = np.array(MedAPE_int)\n",
    "n_samples = np.array(n_samples)\n",
    "\n",
    "# Summary statistics\n",
    "PER_str = format_result(*[x * 100 for x in weighted_stats(PERs, n_pairs)])\n",
    "iPER_str = format_result(*[x * 100 for x in weighted_stats(iPERs, n_ipairs)])\n",
    "MAPE_reg_str = format_result(*weighted_stats(MAPE_reg, n_samples))\n",
    "MedAPE_reg_str = format_result(*weighted_stats(MedAPE_reg, n_samples))\n",
    "MAPE_int_str = format_result(*weighted_stats(MAPE_int, n_samples))\n",
    "MedAPE_int_str = format_result(*weighted_stats(MedAPE_int, n_samples))\n",
    "\n",
    "results = {\n",
    "    'PER': PER_str,\n",
    "    'iPER': iPER_str,\n",
    "    'MAPE_reg': MAPE_reg_str,\n",
    "    'MedAPE_reg': MedAPE_reg_str,\n",
    "    'MAPE_int': MAPE_int_str,\n",
    "    'MedAPE_int': MedAPE_int_str\n",
    "}\n",
    "\n",
    "print(\"Evaluation Results:\")\n",
    "for name, value in results.items():\n",
    "    print(f\"{name:15s}: {value.split('±')[0]}%\")\n",
    "\n",
    "# --- Write to CSV files ---\n",
    "with open(current_dir.parent / 'output' / 'ILD_results_p1' / 'LinRegPairM.csv', 'w', newline='') as f:\n",
    "    writer = csv.DictWriter(f, fieldnames=['DOI', 'n_pairs', 'PER', 'n_ipairs', 'iPER'])\n",
    "    writer.writeheader()\n",
    "    writer.writerows(pairwise_rows)\n",
    "\n",
    "with open(current_dir.parent / 'output' / 'ILD_results_p1' / 'LinRegRegM.csv', 'w', newline='') as f:\n",
    "    writer = csv.DictWriter(f, fieldnames=['DOI', 'n_samples', 'MAPE_reg', 'MedAPE_reg', 'MAPE_int', 'MedAPE_int'])\n",
    "    writer.writeheader()\n",
    "    writer.writerows(regression_rows)"
   ]
  }
 ],
 "metadata": {
  "kernelspec": {
   "display_name": "Python 3",
   "language": "python",
   "name": "python3"
  },
  "language_info": {
   "codemirror_mode": {
    "name": "ipython",
    "version": 3
   },
   "file_extension": ".py",
   "mimetype": "text/x-python",
   "name": "python",
   "nbconvert_exporter": "python",
   "pygments_lexer": "ipython3",
   "version": "3.12.4"
  }
 },
 "nbformat": 4,
 "nbformat_minor": 2
}
