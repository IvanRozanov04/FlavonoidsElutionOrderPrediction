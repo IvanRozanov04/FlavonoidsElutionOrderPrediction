{
 "cells": [
  {
   "cell_type": "code",
   "execution_count": 1,
   "metadata": {},
   "outputs": [],
   "source": [
    "# Data analysis\n",
    "import pandas as pd\n",
    "import numpy as np \n",
    "import matplotlib.pyplot as plt\n",
    "import scipy as scipy\n",
    "\n",
    "from rdkit import Chem\n",
    "# Visualization \n",
    "\n",
    "\n",
    "#PyTorch\n",
    "import torch\n",
    "\n",
    "# Custom modules \n",
    "from Modules.LinearModels.CVLinearModels import PairwiseMetrics\n",
    "from Modules.FingerPrints.ParsingFunctions import get_sub_dict\n",
    "from Modules.FingerPrints.GeneratingFunctions import FirstDegreeFP\n",
    "from Modules.FingerPrints.KernelFP import KernelFPGenerator\n",
    "from Modules.NeuralNetworks.BCELoss.CVNNBCE import RankNETCV,NestedCV,ILD_cv\n",
    "from Modules.NeuralNetworks.BCELoss.RankNETBCE import DataloaderRankNet\n",
    "from Modules.HelperFunctions import *\n",
    "# CONSTANTS\n",
    "from pathlib import Path\n",
    "import csv\n",
    "# Get the directory of the current file\n",
    "current_dir = Path().cwd()\n",
    "METABOBASE_PATH = current_dir.parent / \"data\" / \"IDB.csv\"\n",
    "ARTICLES_PATH = current_dir.parent / \"data\"  / \"ILD.csv\"\n",
    "DEVICE = 'cuda' if torch.cuda.is_available() else 'cpu'\n",
    "\n",
    "\n"
   ]
  },
  {
   "cell_type": "markdown",
   "metadata": {},
   "source": [
    "# Data"
   ]
  },
  {
   "cell_type": "code",
   "execution_count": 2,
   "metadata": {},
   "outputs": [],
   "source": [
    "BaseFPGen = KernelFPGenerator(generating_function=FirstDegreeFP,parsing_function=get_sub_dict)\n",
    "FPGen = KernelFPGenerator(generating_function=FirstDegreeFP,parsing_function=get_sub_dict)"
   ]
  },
  {
   "cell_type": "markdown",
   "metadata": {},
   "source": [
    "## IDB"
   ]
  },
  {
   "cell_type": "code",
   "execution_count": 3,
   "metadata": {},
   "outputs": [],
   "source": [
    "mb_data = pd.read_csv(METABOBASE_PATH)\n",
    "dois_mb = mb_data['DOI'].to_numpy()\n",
    "X_mb = np.stack(mb_data['SMILES'].apply(FPGen.generate))\n",
    "y_mb = mb_data['RT'].to_numpy()\n",
    "f_mb = mb_data['Formula'].to_numpy()"
   ]
  },
  {
   "cell_type": "code",
   "execution_count": 4,
   "metadata": {},
   "outputs": [],
   "source": [
    "X_mb_tensor = torch.tensor(X_mb,dtype=torch.float32,device=DEVICE)\n",
    "y_mb_tensor = torch.tensor(y_mb,dtype=torch.float32,device=DEVICE)"
   ]
  },
  {
   "cell_type": "markdown",
   "metadata": {},
   "source": [
    "## ILD"
   ]
  },
  {
   "cell_type": "code",
   "execution_count": 5,
   "metadata": {},
   "outputs": [],
   "source": [
    "a_data = pd.read_csv(ARTICLES_PATH)\n",
    "\n",
    "X_a = np.stack(a_data['SMILES'].apply(FPGen.generate).to_numpy())\n",
    "f_a = a_data['FORMULA'].to_numpy()\n",
    "RTs_a = a_data['RT'].to_numpy()\n",
    "dois_a = a_data['DOI'].to_numpy()\n",
    "y_a = a_data['RT'].to_numpy()"
   ]
  },
  {
   "cell_type": "code",
   "execution_count": 6,
   "metadata": {},
   "outputs": [],
   "source": [
    "X_a_tensor = torch.tensor(X_a,dtype=torch.float32,device=DEVICE)\n",
    "y_a_tensor = torch.tensor(y_a,dtype=torch.float32,device=DEVICE)"
   ]
  },
  {
   "cell_type": "markdown",
   "metadata": {},
   "source": [
    "## Stratification"
   ]
  },
  {
   "cell_type": "code",
   "execution_count": 7,
   "metadata": {},
   "outputs": [],
   "source": [
    "def get_retention_time_class(retention_time, retention_times=y_mb, num_classes=3):\n",
    "  \"\"\"\n",
    "  Determines the retention time class for a given retention time.\n",
    "\n",
    "  Args:\n",
    "    retention_time: The retention time of the compound.\n",
    "    retention_times: A list or array of all retention times in the dataset.\n",
    "    num_classes: The desired number of retention time classes.\n",
    "\n",
    "  Returns:\n",
    "    The retention time class (an integer between 0 and num_classes-1).\n",
    "  \"\"\"\n",
    "\n",
    "  # Calculate class boundaries\n",
    "  min_rt = np.min(retention_times)\n",
    "  max_rt = np.max(retention_times)\n",
    "  class_boundaries = np.linspace(min_rt, max_rt+0.001, num_classes+1)\n",
    "\n",
    "  # Determine the class index\n",
    "  class_index = np.digitize(retention_time, class_boundaries) - 1\n",
    "  return class_index\n",
    "\n",
    "\n",
    "classes = list(map(get_retention_time_class,y_mb))"
   ]
  },
  {
   "cell_type": "markdown",
   "metadata": {},
   "source": [
    "# RankNET BCELoss"
   ]
  },
  {
   "cell_type": "markdown",
   "metadata": {},
   "source": [
    "## Nested CV"
   ]
  },
  {
   "cell_type": "code",
   "execution_count": null,
   "metadata": {},
   "outputs": [],
   "source": [
    "param_values = {\n",
    "    \"hidden_dim\": [32,64],\n",
    "    \"n_hidden\": [2,4],\n",
    "    \"num_epochs\": [5,10],\n",
    "    \"weight_decay\": [0.01,0.0001,0],\n",
    "    \"batch_size\": [512]\n",
    "} \n",
    "\n",
    "hyperparameters_grid = create_hp_grid(param_values)\n",
    "RankNET_nested = np.array(NestedCV(X_mb_tensor,y_mb_tensor,classes,f_mb,hyperparameters_grid,RankNETCV,n_itter_inner=1,n_itter_out=1))\n",
    "save_dir = current_dir.parent / \"output\" / 'IDB_results_p1' / 'NNBCE.csv'\n",
    "np.savetxt(save_dir,RankNET_nested)"
   ]
  },
  {
   "cell_type": "code",
   "execution_count": null,
   "metadata": {},
   "outputs": [
    {
     "name": "stdout",
     "output_type": "stream",
     "text": [
      "Evaluation Results (mean ± 95% CI):\n",
      "PER (test)     : 7.8 ± 2.0\n",
      "PER (mixed)    : 6.75 ± 0.77\n",
      "iPER (test)    : 21.0 ± 11.0\n",
      "iPER (mixed)   : 13.2 ± 2.4\n"
     ]
    }
   ],
   "source": [
    "# Unweighted metrics (PER)\n",
    "PER_test_mean, PER_test_std = np.mean(RankNET_nested[:, 0]), np.std(RankNET_nested[:, 0]) / np.sqrt(len(RankNET_nested[:, 0])) * 1.96\n",
    "PER_mixed_mean, PER_mixed_std = np.mean(RankNET_nested[:, 1]), np.std(RankNET_nested[:, 1]) / np.sqrt(len(RankNET_nested[:, 1])) * 1.96\n",
    "\n",
    "# Weighted metrics (iPER)\n",
    "iPER_test_mean, iPER_test_ci = weighted_stats(RankNET_nested[:, 2], RankNET_nested[:, 4])\n",
    "iPER_mixed_mean, iPER_mixed_ci = weighted_stats(RankNET_nested[:, 3], RankNET_nested[:, 5])\n",
    "\n",
    "# Format for printing (in %)\n",
    "results = {\n",
    "    \"PER (test)\": format_result(PER_test_mean * 100, PER_test_std * 100),\n",
    "    \"PER (mixed)\": format_result(PER_mixed_mean * 100, PER_mixed_std * 100),\n",
    "    \"iPER (test)\": format_result(iPER_test_mean * 100, iPER_test_ci * 100),\n",
    "    \"iPER (mixed)\": format_result(iPER_mixed_mean * 100, iPER_mixed_ci * 100)\n",
    "}\n",
    "\n",
    "# Print results\n",
    "print(\"Evaluation Results (mean ± 95% CI):\")\n",
    "for name, value in results.items():\n",
    "    print(f\"{name:15s}: {value}\")"
   ]
  },
  {
   "cell_type": "markdown",
   "metadata": {},
   "source": [
    "## Tuning HP on IDB"
   ]
  },
  {
   "cell_type": "code",
   "execution_count": null,
   "metadata": {},
   "outputs": [],
   "source": [
    "param_values = {\n",
    "    \"hidden_dim\": [32,64],\n",
    "    \"n_hidden\": [2,4],\n",
    "    \"num_epochs\": [5,10],\n",
    "    \"weight_decay\": [0.01,0.0001,0],\n",
    "    \"batch_size\": [512]\n",
    "} \n",
    "\n",
    "hyperparameters_grid = create_hp_grid(param_values)"
   ]
  },
  {
   "cell_type": "code",
   "execution_count": null,
   "metadata": {},
   "outputs": [],
   "source": [
    "RankNET_final = RankNETCV(X_mb_tensor,y_mb_tensor,classes,hyperparameters_grid)"
   ]
  },
  {
   "cell_type": "markdown",
   "metadata": {},
   "source": [
    "## Evaluating on ILD"
   ]
  },
  {
   "cell_type": "code",
   "execution_count": 9,
   "metadata": {},
   "outputs": [
    {
     "ename": "NameError",
     "evalue": "name 'RankNET_final' is not defined",
     "output_type": "error",
     "traceback": [
      "\u001b[0;31m---------------------------------------------------------------------------\u001b[0m",
      "\u001b[0;31mNameError\u001b[0m                                 Traceback (most recent call last)",
      "\u001b[1;32m/Users/ivanrozanov/Desktop/FlavonoidsElutionOrder/Code/code/NNBCE.ipynb Cell 20\u001b[0m line \u001b[0;36m1\n\u001b[0;32m----> <a href='vscode-notebook-cell:/Users/ivanrozanov/Desktop/FlavonoidsElutionOrder/Code/code/NNBCE.ipynb#X30sZmlsZQ%3D%3D?line=0'>1</a>\u001b[0m preds_articles \u001b[39m=\u001b[39m RankNET_final(X_a_tensor)\u001b[39m.\u001b[39mcpu()\u001b[39m.\u001b[39mdetach()\u001b[39m.\u001b[39mnumpy()\u001b[39m.\u001b[39mreshape(\u001b[39m-\u001b[39m\u001b[39m1\u001b[39m)\n\u001b[1;32m      <a href='vscode-notebook-cell:/Users/ivanrozanov/Desktop/FlavonoidsElutionOrder/Code/code/NNBCE.ipynb#X30sZmlsZQ%3D%3D?line=1'>2</a>\u001b[0m selected \u001b[39m=\u001b[39m dois_a \u001b[39m==\u001b[39m \u001b[39m'\u001b[39m\u001b[39mhttps://doi.org/10.1016/S0021-9673(01)95521-9\u001b[39m\u001b[39m'\u001b[39m\n\u001b[1;32m      <a href='vscode-notebook-cell:/Users/ivanrozanov/Desktop/FlavonoidsElutionOrder/Code/code/NNBCE.ipynb#X30sZmlsZQ%3D%3D?line=2'>3</a>\u001b[0m plt\u001b[39m.\u001b[39mscatter(preds_articles[selected],y_a[selected])\n",
      "\u001b[0;31mNameError\u001b[0m: name 'RankNET_final' is not defined"
     ]
    }
   ],
   "source": [
    "preds_articles = RankNET_final(X_a_tensor).cpu().detach().numpy().reshape(-1)\n",
    "selected = dois_a == 'https://doi.org/10.1016/S0021-9673(01)95521-9'\n",
    "plt.scatter(preds_articles[selected],y_a[selected])"
   ]
  },
  {
   "cell_type": "code",
   "execution_count": null,
   "metadata": {},
   "outputs": [
    {
     "name": "stdout",
     "output_type": "stream",
     "text": [
      "Evaluation Results (mean ± std):\n",
      "PER            : 8.0 ± 5.0\n",
      "iPER           : 13.0 ± 30.0\n",
      "MAPE_reg       : 14.0 ± 11.0\n",
      "MedAPE_reg     : 11.4 ± 7.7\n",
      "MAPE_int       : 10.4 ± 6.0\n",
      "MedAPE_int     : 8.8 ± 4.0\n"
     ]
    },
    {
     "name": "stderr",
     "output_type": "stream",
     "text": [
      "/Users/ivanrozanov/Desktop/Хроматография Моделирование/RESTRUTCURED_ARTICLE_CODE/CODE/ProjectCode/LinearModels/CVLinearModels.py:27: RuntimeWarning: invalid value encountered in scalar divide\n",
      "  results[\"PER_train\"] = errors[train_mask & valid_mask].sum() / (train_mask & valid_mask).sum()\n",
      "/Users/ivanrozanov/Desktop/Хроматография Моделирование/RESTRUTCURED_ARTICLE_CODE/CODE/ProjectCode/LinearModels/CVLinearModels.py:32: RuntimeWarning: invalid value encountered in scalar divide\n",
      "  results[\"iPER_train\"] = errors[train_mask & iso_mask & valid_mask].sum() / (train_mask & iso_mask & valid_mask).sum()\n",
      "/Users/ivanrozanov/Desktop/Хроматография Моделирование/RESTRUTCURED_ARTICLE_CODE/CODE/ProjectCode/LinearModels/CVLinearModels.py:27: RuntimeWarning: invalid value encountered in scalar divide\n",
      "  results[\"PER_train\"] = errors[train_mask & valid_mask].sum() / (train_mask & valid_mask).sum()\n",
      "/Users/ivanrozanov/Desktop/Хроматография Моделирование/RESTRUTCURED_ARTICLE_CODE/CODE/ProjectCode/LinearModels/CVLinearModels.py:32: RuntimeWarning: invalid value encountered in scalar divide\n",
      "  results[\"iPER_train\"] = errors[train_mask & iso_mask & valid_mask].sum() / (train_mask & iso_mask & valid_mask).sum()\n",
      "/Users/ivanrozanov/Desktop/Хроматография Моделирование/RESTRUTCURED_ARTICLE_CODE/CODE/ProjectCode/LinearModels/CVLinearModels.py:27: RuntimeWarning: invalid value encountered in scalar divide\n",
      "  results[\"PER_train\"] = errors[train_mask & valid_mask].sum() / (train_mask & valid_mask).sum()\n",
      "/Users/ivanrozanov/Desktop/Хроматография Моделирование/RESTRUTCURED_ARTICLE_CODE/CODE/ProjectCode/LinearModels/CVLinearModels.py:32: RuntimeWarning: invalid value encountered in scalar divide\n",
      "  results[\"iPER_train\"] = errors[train_mask & iso_mask & valid_mask].sum() / (train_mask & iso_mask & valid_mask).sum()\n",
      "/Users/ivanrozanov/Desktop/Хроматография Моделирование/RESTRUTCURED_ARTICLE_CODE/CODE/ProjectCode/LinearModels/CVLinearModels.py:27: RuntimeWarning: invalid value encountered in scalar divide\n",
      "  results[\"PER_train\"] = errors[train_mask & valid_mask].sum() / (train_mask & valid_mask).sum()\n",
      "/Users/ivanrozanov/Desktop/Хроматография Моделирование/RESTRUTCURED_ARTICLE_CODE/CODE/ProjectCode/LinearModels/CVLinearModels.py:32: RuntimeWarning: invalid value encountered in scalar divide\n",
      "  results[\"iPER_train\"] = errors[train_mask & iso_mask & valid_mask].sum() / (train_mask & iso_mask & valid_mask).sum()\n",
      "/Users/ivanrozanov/Desktop/Хроматография Моделирование/RESTRUTCURED_ARTICLE_CODE/CODE/ProjectCode/LinearModels/CVLinearModels.py:27: RuntimeWarning: invalid value encountered in scalar divide\n",
      "  results[\"PER_train\"] = errors[train_mask & valid_mask].sum() / (train_mask & valid_mask).sum()\n",
      "/Users/ivanrozanov/Desktop/Хроматография Моделирование/RESTRUTCURED_ARTICLE_CODE/CODE/ProjectCode/LinearModels/CVLinearModels.py:32: RuntimeWarning: invalid value encountered in scalar divide\n",
      "  results[\"iPER_train\"] = errors[train_mask & iso_mask & valid_mask].sum() / (train_mask & iso_mask & valid_mask).sum()\n",
      "/Users/ivanrozanov/Desktop/Хроматография Моделирование/RESTRUTCURED_ARTICLE_CODE/CODE/ProjectCode/LinearModels/CVLinearModels.py:27: RuntimeWarning: invalid value encountered in scalar divide\n",
      "  results[\"PER_train\"] = errors[train_mask & valid_mask].sum() / (train_mask & valid_mask).sum()\n",
      "/Users/ivanrozanov/Desktop/Хроматография Моделирование/RESTRUTCURED_ARTICLE_CODE/CODE/ProjectCode/LinearModels/CVLinearModels.py:32: RuntimeWarning: invalid value encountered in scalar divide\n",
      "  results[\"iPER_train\"] = errors[train_mask & iso_mask & valid_mask].sum() / (train_mask & iso_mask & valid_mask).sum()\n",
      "/Users/ivanrozanov/Desktop/Хроматография Моделирование/RESTRUTCURED_ARTICLE_CODE/CODE/ProjectCode/LinearModels/CVLinearModels.py:27: RuntimeWarning: invalid value encountered in scalar divide\n",
      "  results[\"PER_train\"] = errors[train_mask & valid_mask].sum() / (train_mask & valid_mask).sum()\n",
      "/Users/ivanrozanov/Desktop/Хроматография Моделирование/RESTRUTCURED_ARTICLE_CODE/CODE/ProjectCode/LinearModels/CVLinearModels.py:32: RuntimeWarning: invalid value encountered in scalar divide\n",
      "  results[\"iPER_train\"] = errors[train_mask & iso_mask & valid_mask].sum() / (train_mask & iso_mask & valid_mask).sum()\n",
      "/Users/ivanrozanov/Desktop/Хроматография Моделирование/RESTRUTCURED_ARTICLE_CODE/CODE/ProjectCode/LinearModels/CVLinearModels.py:27: RuntimeWarning: invalid value encountered in scalar divide\n",
      "  results[\"PER_train\"] = errors[train_mask & valid_mask].sum() / (train_mask & valid_mask).sum()\n",
      "/Users/ivanrozanov/Desktop/Хроматография Моделирование/RESTRUTCURED_ARTICLE_CODE/CODE/ProjectCode/LinearModels/CVLinearModels.py:32: RuntimeWarning: invalid value encountered in scalar divide\n",
      "  results[\"iPER_train\"] = errors[train_mask & iso_mask & valid_mask].sum() / (train_mask & iso_mask & valid_mask).sum()\n",
      "/Users/ivanrozanov/Desktop/Хроматография Моделирование/RESTRUTCURED_ARTICLE_CODE/CODE/ProjectCode/LinearModels/CVLinearModels.py:27: RuntimeWarning: invalid value encountered in scalar divide\n",
      "  results[\"PER_train\"] = errors[train_mask & valid_mask].sum() / (train_mask & valid_mask).sum()\n",
      "/Users/ivanrozanov/Desktop/Хроматография Моделирование/RESTRUTCURED_ARTICLE_CODE/CODE/ProjectCode/LinearModels/CVLinearModels.py:32: RuntimeWarning: invalid value encountered in scalar divide\n",
      "  results[\"iPER_train\"] = errors[train_mask & iso_mask & valid_mask].sum() / (train_mask & iso_mask & valid_mask).sum()\n",
      "/Users/ivanrozanov/Desktop/Хроматография Моделирование/RESTRUTCURED_ARTICLE_CODE/CODE/ProjectCode/LinearModels/CVLinearModels.py:27: RuntimeWarning: invalid value encountered in scalar divide\n",
      "  results[\"PER_train\"] = errors[train_mask & valid_mask].sum() / (train_mask & valid_mask).sum()\n",
      "/Users/ivanrozanov/Desktop/Хроматография Моделирование/RESTRUTCURED_ARTICLE_CODE/CODE/ProjectCode/LinearModels/CVLinearModels.py:32: RuntimeWarning: invalid value encountered in scalar divide\n",
      "  results[\"iPER_train\"] = errors[train_mask & iso_mask & valid_mask].sum() / (train_mask & iso_mask & valid_mask).sum()\n",
      "/Users/ivanrozanov/Desktop/Хроматография Моделирование/RESTRUTCURED_ARTICLE_CODE/CODE/ProjectCode/LinearModels/CVLinearModels.py:27: RuntimeWarning: invalid value encountered in scalar divide\n",
      "  results[\"PER_train\"] = errors[train_mask & valid_mask].sum() / (train_mask & valid_mask).sum()\n",
      "/Users/ivanrozanov/Desktop/Хроматография Моделирование/RESTRUTCURED_ARTICLE_CODE/CODE/ProjectCode/LinearModels/CVLinearModels.py:32: RuntimeWarning: invalid value encountered in scalar divide\n",
      "  results[\"iPER_train\"] = errors[train_mask & iso_mask & valid_mask].sum() / (train_mask & iso_mask & valid_mask).sum()\n",
      "/Users/ivanrozanov/Desktop/Хроматография Моделирование/RESTRUTCURED_ARTICLE_CODE/CODE/ProjectCode/LinearModels/CVLinearModels.py:27: RuntimeWarning: invalid value encountered in scalar divide\n",
      "  results[\"PER_train\"] = errors[train_mask & valid_mask].sum() / (train_mask & valid_mask).sum()\n",
      "/Users/ivanrozanov/Desktop/Хроматография Моделирование/RESTRUTCURED_ARTICLE_CODE/CODE/ProjectCode/LinearModels/CVLinearModels.py:32: RuntimeWarning: invalid value encountered in scalar divide\n",
      "  results[\"iPER_train\"] = errors[train_mask & iso_mask & valid_mask].sum() / (train_mask & iso_mask & valid_mask).sum()\n",
      "/Users/ivanrozanov/Desktop/Хроматография Моделирование/RESTRUTCURED_ARTICLE_CODE/CODE/ProjectCode/LinearModels/CVLinearModels.py:27: RuntimeWarning: invalid value encountered in scalar divide\n",
      "  results[\"PER_train\"] = errors[train_mask & valid_mask].sum() / (train_mask & valid_mask).sum()\n",
      "/Users/ivanrozanov/Desktop/Хроматография Моделирование/RESTRUTCURED_ARTICLE_CODE/CODE/ProjectCode/LinearModels/CVLinearModels.py:32: RuntimeWarning: invalid value encountered in scalar divide\n",
      "  results[\"iPER_train\"] = errors[train_mask & iso_mask & valid_mask].sum() / (train_mask & iso_mask & valid_mask).sum()\n",
      "/Users/ivanrozanov/Desktop/Хроматография Моделирование/RESTRUTCURED_ARTICLE_CODE/CODE/ProjectCode/LinearModels/CVLinearModels.py:27: RuntimeWarning: invalid value encountered in scalar divide\n",
      "  results[\"PER_train\"] = errors[train_mask & valid_mask].sum() / (train_mask & valid_mask).sum()\n",
      "/Users/ivanrozanov/Desktop/Хроматография Моделирование/RESTRUTCURED_ARTICLE_CODE/CODE/ProjectCode/LinearModels/CVLinearModels.py:31: RuntimeWarning: invalid value encountered in scalar divide\n",
      "  results[\"iPER_test\"] = errors[test_mask & iso_mask & valid_mask].sum() / (test_mask & iso_mask & valid_mask).sum()\n",
      "/Users/ivanrozanov/Desktop/Хроматография Моделирование/RESTRUTCURED_ARTICLE_CODE/CODE/ProjectCode/LinearModels/CVLinearModels.py:32: RuntimeWarning: invalid value encountered in scalar divide\n",
      "  results[\"iPER_train\"] = errors[train_mask & iso_mask & valid_mask].sum() / (train_mask & iso_mask & valid_mask).sum()\n",
      "/Users/ivanrozanov/Desktop/Хроматография Моделирование/RESTRUTCURED_ARTICLE_CODE/CODE/ProjectCode/LinearModels/CVLinearModels.py:33: RuntimeWarning: invalid value encountered in scalar divide\n",
      "  results[\"iPER_mixed\"] = errors[mixed_mask & iso_mask & valid_mask].sum() / (mixed_mask & iso_mask & valid_mask).sum()\n"
     ]
    }
   ],
   "source": [
    "PERs = []\n",
    "n_pairs = []\n",
    "iPERs = []\n",
    "n_ipairs = []\n",
    "\n",
    "n_samples = []\n",
    "MAPE_reg = []\n",
    "MedAPE_reg = []\n",
    "\n",
    "MAPE_int = []\n",
    "MedAPE_int = []\n",
    "\n",
    "pairwise_rows = []\n",
    "regression_rows = []\n",
    "\n",
    "i = 0\n",
    "s = list(set(dois_a))\n",
    "\n",
    "for doi in s:\n",
    "    selected = dois_a == doi\n",
    "    num = sum(selected)\n",
    "    # Compute stats for articles with 5 and more molecules, for more reliable performance estimation\n",
    "    if num > 4:\n",
    "        preds_sel = preds_articles[selected]\n",
    "        y_sel = y_a[selected]\n",
    "        f_sel = f_a[selected]\n",
    "\n",
    "        RegMetrics = compute_safe_linear_regression_metrics(preds_sel, y_sel, n_splits=num)\n",
    "        IntMetrics = compute_safe_interpolation_metrics(preds_sel, y_sel, n_splits=num)\n",
    "        PMetrics = PairwiseMetrics(y_sel, preds_sel, np.array(range(num)), f_sel)\n",
    "\n",
    "        # --- Regression/interpolation metrics ---\n",
    "        n_samples.append(num)\n",
    "        MAPE_reg.append(RegMetrics['MAPE'])\n",
    "        MedAPE_reg.append(RegMetrics['MedAPE'])\n",
    "        MAPE_int.append(IntMetrics['MAPE'])\n",
    "        MedAPE_int.append(IntMetrics['MedAPE'])\n",
    "\n",
    "        regression_rows.append({\n",
    "            'DOI': doi,\n",
    "            'n_samples': num,\n",
    "            'MAPE_reg': RegMetrics['MAPE'],\n",
    "            'MedAPE_reg': RegMetrics['MedAPE'],\n",
    "            'MAPE_int': IntMetrics['MAPE'],\n",
    "            'MedAPE_int': IntMetrics['MedAPE']\n",
    "        })\n",
    "\n",
    "        # --- Pairwise metrics ---\n",
    "        per = PMetrics['PER_test']\n",
    "        ni = PMetrics['ni_test']\n",
    "        n_total_pairs = num * (num - 1) / 2\n",
    "\n",
    "        PERs.append(per)\n",
    "        n_pairs.append(n_total_pairs)\n",
    "\n",
    "        row = {\n",
    "            'DOI': doi,\n",
    "            'n_pairs': n_total_pairs,\n",
    "            'PER': per\n",
    "        }\n",
    "\n",
    "        if ni != 0:\n",
    "            iPERs.append(PMetrics['iPER_test'])\n",
    "            n_ipairs.append(ni)\n",
    "            row['iPER'] = PMetrics['iPER_test']\n",
    "            row['n_ipairs'] = ni\n",
    "        else:\n",
    "            row['iPER'] = ''\n",
    "            row['n_ipairs'] = ''\n",
    "\n",
    "        pairwise_rows.append(row)\n",
    "\n",
    "# Convert to numpy arrays\n",
    "PERs = np.array(PERs)\n",
    "n_pairs = np.array(n_pairs)\n",
    "iPERs = np.array(iPERs)\n",
    "n_ipairs = np.array(n_ipairs)\n",
    "MAPE_reg = np.array(MAPE_reg)\n",
    "MedAPE_reg = np.array(MedAPE_reg)\n",
    "MAPE_int = np.array(MAPE_int)\n",
    "MedAPE_int = np.array(MedAPE_int)\n",
    "n_samples = np.array(n_samples)\n",
    "\n",
    "# Summary statistics\n",
    "PER_str = format_result(*[x * 100 for x in weighted_stats(PERs, n_pairs)])\n",
    "iPER_str = format_result(*[x * 100 for x in weighted_stats(iPERs, n_ipairs)])\n",
    "MAPE_reg_str = format_result(*weighted_stats(MAPE_reg, n_samples))\n",
    "MedAPE_reg_str = format_result(*weighted_stats(MedAPE_reg, n_samples))\n",
    "MAPE_int_str = format_result(*weighted_stats(MAPE_int, n_samples))\n",
    "MedAPE_int_str = format_result(*weighted_stats(MedAPE_int, n_samples))\n",
    "\n",
    "results = {\n",
    "    'PER': PER_str,\n",
    "    'iPER': iPER_str,\n",
    "    'MAPE_reg': MAPE_reg_str,\n",
    "    'MedAPE_reg': MedAPE_reg_str,\n",
    "    'MAPE_int': MAPE_int_str,\n",
    "    'MedAPE_int': MedAPE_int_str\n",
    "}\n",
    "\n",
    "print(\"Evaluation Results:\")\n",
    "for name, value in results.items():\n",
    "    print(f\"{name:15s}: {value.split('±')[0]}%\")\n",
    "\n",
    "# --- Write to CSV files ---\n",
    "with open(current_dir.parent / 'output' / 'ILD_results_p1' / 'NNMRPairM.csv', 'w', newline='') as f:\n",
    "    writer = csv.DictWriter(f, fieldnames=['DOI', 'n_pairs', 'PER', 'n_ipairs', 'iPER'])\n",
    "    writer.writeheader()\n",
    "    writer.writerows(pairwise_rows)\n",
    "\n",
    "with open(current_dir.parent / 'output' / 'ILD_results_p1' / 'NNMRRegM.csv', 'w', newline='') as f:\n",
    "    writer = csv.DictWriter(f, fieldnames=['DOI', 'n_samples', 'MAPE_reg', 'MedAPE_reg', 'MAPE_int', 'MedAPE_int'])\n",
    "    writer.writeheader()\n",
    "    writer.writerows(regression_rows)\n"
   ]
  },
  {
   "cell_type": "markdown",
   "metadata": {},
   "source": [
    "# Training on ILD"
   ]
  },
  {
   "cell_type": "code",
   "execution_count": null,
   "metadata": {},
   "outputs": [],
   "source": [
    "RD_acc = RelDiffErrorAccumulator()"
   ]
  },
  {
   "cell_type": "code",
   "execution_count": null,
   "metadata": {},
   "outputs": [],
   "source": [
    "param_values = {\n",
    "    \"hidden_dim\": [32,64],\n",
    "    \"n_hidden\": [2,4],\n",
    "    \"num_epochs\": [5,10],\n",
    "    \"weight_decay\": [0.01,0.0001,0],\n",
    "    \"batch_size\": [512]\n",
    "}\n",
    "hyperparameters_grid = create_hp_grid(param_values)\n",
    "train_loader = DataloaderRankNet(X_a_tensor,y_a_tensor,dois_a,batch_size=512)\n",
    "ild_results,ild_reg_metrics,ild_int_metrics = ILD_cv(train_loader,X_mb_tensor,y_mb_tensor,classes,f_mb,hyperparameters_grid,n_itter=5,n_splits=5,accumulator=RD_acc)\n",
    "ild_results,ild_reg_metrics,ild_int_metrics = np.array(ild_results),np.array(ild_reg_metrics), np.array(ild_int_metrics)\n",
    "np.savetxt(current_dir.parent/'output'/'IDB_results_p2'/'NNBCER2.csv',ild_results)"
   ]
  },
  {
   "cell_type": "code",
   "execution_count": null,
   "metadata": {},
   "outputs": [],
   "source": [
    "def write_accumulator_to_csv(accumulator, output_path):\n",
    "    \"\"\"\n",
    "    Writes the contents of a RelDiffErrorAccumulator instance to a CSV file.\n",
    "\n",
    "    Parameters:\n",
    "    - accumulator: an instance of RelDiffErrorAccumulator\n",
    "    - output_path: path to the output CSV file\n",
    "    \"\"\"\n",
    "    with open(output_path, mode='w', newline='') as csvfile:\n",
    "        writer = csv.writer(csvfile)\n",
    "        writer.writerow(['rel_diff', 'error', 'is_isomer'])  # header\n",
    "\n",
    "        for rel_diff, error, is_isomer in zip(\n",
    "            accumulator.rel_diffs,\n",
    "            accumulator.errors,\n",
    "            accumulator.isomeric_flags\n",
    "        ):\n",
    "            writer.writerow([rel_diff, int(error), int(is_isomer)])\n",
    "\n",
    "write_accumulator_to_csv(RD_acc,current_dir.parent/'output'/'Accumulators'/'NNBCER2.csv')"
   ]
  },
  {
   "cell_type": "code",
   "execution_count": null,
   "metadata": {},
   "outputs": [
    {
     "data": {
      "image/png": "[encoded data removed]",
      "text/plain": [
       "<Figure size 1000x600 with 2 Axes>"
      ]
     },
     "metadata": {},
     "output_type": "display_data"
    }
   ],
   "source": [
    "plot_rel_diff_error_distribution(RD_acc,isomeric_only=True,bin_edges=np.linspace(0, 2.0, 21))"
   ]
  },
  {
   "cell_type": "code",
   "execution_count": null,
   "metadata": {},
   "outputs": [
    {
     "name": "stdout",
     "output_type": "stream",
     "text": [
      "Evaluation Results (mean ± 95% CI):\n",
      "PER (test)     : 10.7 ± 1.0\n",
      "PER (mixed)    : 10.54 ± 0.36\n",
      "iPER (test)    : 23.9 ± 3.7\n",
      "iPER (mixed)   : 22.8 ± 1.5\n"
     ]
    }
   ],
   "source": [
    "# Unweighted metrics (PER)\n",
    "PER_test_mean, PER_test_std = np.mean(ild_results[:, 0]), np.std(ild_results[:, 0])\n",
    "PER_mixed_mean, PER_mixed_std = np.mean(ild_results[:, 1]), np.std(ild_results[:, 1])\n",
    "# Weighted metrics (iPER)\n",
    "iPER_test_mean, iPER_test_ci = weighted_stats(ild_results[:, 2], ild_results[:, 4])\n",
    "iPER_mixed_mean, iPER_mixed_ci = weighted_stats(ild_results[:, 3], ild_results[:, 5])\n",
    "\n",
    "# Format for printing (in %)\n",
    "results = {\n",
    "    \"PER (test)\": format_result(PER_test_mean * 100, PER_test_std * 100),\n",
    "    \"PER (mixed)\": format_result(PER_mixed_mean * 100, PER_mixed_std * 100),\n",
    "    \"iPER (test)\": format_result(iPER_test_mean * 100, iPER_test_ci * 100),\n",
    "    \"iPER (mixed)\": format_result(iPER_mixed_mean * 100, iPER_mixed_ci * 100)\n",
    "}\n",
    "\n",
    "# Print results\n",
    "print(\"Evaluation Results (mean ± 95% CI):\")\n",
    "for name, value in results.items():\n",
    "    print(f\"{name:15s}: {value}\")"
   ]
  },
  {
   "cell_type": "code",
   "execution_count": null,
   "metadata": {},
   "outputs": [
    {
     "name": "stdout",
     "output_type": "stream",
     "text": [
      "Evaluation Results (mean ± 95% CI):\n",
      "MAPE           : 9.7 ± 0.87\n",
      "MedAPE         : 8.8 ± 1.4\n"
     ]
    }
   ],
   "source": [
    "# Unweighted metrics (PER)\n",
    "MAPE, MAPE_std = np.mean(ild_reg_metrics[:, 0]), np.std(ild_reg_metrics[:, 0],ddof=1) \n",
    "MedAPE, MedAPE_std = np.mean(ild_reg_metrics[:, 1]), np.std(ild_reg_metrics[:, 1],ddof=1)\n",
    "\n",
    "# Format for printing (in %)\n",
    "results = {\n",
    "    \"MAPE\": format_result(MAPE, MAPE_std),\n",
    "    \"MedAPE\": format_result(MedAPE, MedAPE_std),\n",
    "}\n",
    "\n",
    "# Print results\n",
    "print(\"Evaluation Results (mean ± 95% CI):\")\n",
    "for name, value in results.items():\n",
    "    print(f\"{name:15s}: {value}\")"
   ]
  },
  {
   "cell_type": "code",
   "execution_count": null,
   "metadata": {},
   "outputs": [
    {
     "name": "stdout",
     "output_type": "stream",
     "text": [
      "Evaluation Results (mean ± 95% CI):\n",
      "MAPE           : 10.7 ± 1.0\n",
      "MedAPE         : 8.9 ± 1.5\n"
     ]
    }
   ],
   "source": [
    "# Unweighted metrics (PER)\n",
    "MAPE, MAPE_std = np.mean(ild_int_metrics[:, 0]), np.std(ild_int_metrics[:, 0],ddof=1)\n",
    "MedAPE, MedAPE_std = np.mean(ild_int_metrics[:, 1]), np.std(ild_int_metrics[:, 1],ddof=1)\n",
    "\n",
    "# Format for printing (in %)\n",
    "results = {\n",
    "    \"MAPE\": format_result(MAPE, MAPE_std),\n",
    "    \"MedAPE\": format_result(MedAPE, MedAPE_std),\n",
    "}\n",
    "\n",
    "# Print results\n",
    "print(\"Evaluation Results (mean ± 95% CI):\")\n",
    "for name, value in results.items():\n",
    "    print(f\"{name:15s}: {value}\")"
   ]
  }
 ],
 "metadata": {
  "kernelspec": {
   "display_name": "DataSphere Kernel",
   "language": "python",
   "name": "python3"
  },
  "language_info": {
   "codemirror_mode": {
    "name": "ipython",
    "version": 3
   },
   "file_extension": ".py",
   "mimetype": "text/x-python",
   "name": "python",
   "nbconvert_exporter": "python",
   "pygments_lexer": "ipython3",
   "version": "3.10.12"
  }
 },
 "nbformat": 4,
 "nbformat_minor": 4
}
